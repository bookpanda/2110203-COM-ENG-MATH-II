{
 "cells": [
  {
   "cell_type": "markdown",
   "metadata": {
    "id": "j676zrYECJmS"
   },
   "source": [
    "# Competition\n",
    "\n",
    "The score in this homework is counted as extra credits.\n",
    "\n",
    "Anyone who complete the competition will be ranked. The higher ranking you get, the more extra credits you will recieve. The minimum amount of extra credits is 2 point, and the maximum is 4 points.\n",
    "\n",
    "**The winner will also recieve a physical grand prize from your dearest boss, Hamtaro!**"
   ]
  },
  {
   "cell_type": "markdown",
   "metadata": {
    "id": "xrkZdbL8CL72"
   },
   "source": [
    "Hamtaro wants to tweak his e-commerce website for his one-time Super HamHam 12/12 Grand Sale Extravaganza which starts on 9/12/24. He has 6 possible tweaks.\n",
    "\n",
    "*   Tweak 1: Display price in THB or Hamtaro coins\n",
    "*   Tweak 2: Buy button at the bottom or at the top of the page\n",
    "*   Tweak 3: Checkout process requires sign in or not\n",
    "*   Tweak 4: Checkout process has orange button or grey button\n",
    "*   Tweak 5: Checkout process has music or not\n",
    "*   Tweak 6: Checkout process has final confirmation or not\n",
    "\n",
    "Figure out which combination of tweaks should be used via multi-arm bandit.\n",
    "\n",
    "In other words, choose the best combination of six binary settings that will optimize the conversion.\n",
    "\n",
    "Note: the information for Tweak 1-6 is just flavor text. You should not use this information to help solve the problem."
   ]
  },
  {
   "cell_type": "code",
   "execution_count": 25,
   "metadata": {
    "id": "chzN0aDIh5jr"
   },
   "outputs": [],
   "source": [
    "import requests\n",
    "import json\n",
    "\n",
    "url = 'http://183.90.168.139:5001'"
   ]
  },
  {
   "cell_type": "markdown",
   "metadata": {
    "id": "l5uZvOlPISVk"
   },
   "source": [
    "# Instruction"
   ]
  },
  {
   "cell_type": "markdown",
   "metadata": {
    "id": "NdCuFxT7Rzix"
   },
   "source": [
    "There is a 6-arm bandit (many arms can be toggled at once). The bandit will return only one binary reward for each pull, which is zero or one.\n",
    "In other words, the returning reward depends on the arms being pulled and there are $2^6$ combinations in total.\n",
    "\n",
    "You will receive an account that can pulls **1000** times.\n",
    "Your goal is to maximize the cumulative reward of the **last 950 pulls**. In order to be eligible for the competition you must pull at least 50 times.\n",
    "\n",
    "Note: the arm probability for each person is randomly assigned and will be different for each student."
   ]
  },
  {
   "cell_type": "markdown",
   "metadata": {
    "id": "dGrcj82CA9_A"
   },
   "source": [
    "Send a **POST** request to http://183.90.168.139:5001/update_state. \\\n",
    "You have to pass 2 attributes in the request json\n",
    "\n",
    "\n",
    "*   times: number of pulls (positive interger). If `times` > 1, the same pulling policy, which is defined in `arms`, will be used. This variable is designed to reduce the number requests.\n",
    "*   arms: list of arms that you want to configure (maximum length = 6, number of arm between = [1,6])\n",
    "\n",
    "\n",
    "You can get the token from mycourseville. Go to the CEM2 course page and look at your portfollio. **Your authorization token is the concatenation of two scores, `<token1><token2>`**. Each token is a five digit number.\n",
    "\n",
    "**!! Don't forget to pass your token as string in headers of request !!**"
   ]
  },
  {
   "cell_type": "markdown",
   "metadata": {
    "id": "eX12VgKPA27O"
   },
   "source": [
    "#Pull arm"
   ]
  },
  {
   "cell_type": "code",
   "execution_count": 26,
   "metadata": {},
   "outputs": [],
   "source": [
    "import requests\n",
    "import json\n",
    "from typing import List\n",
    "\n",
    "# In this example call, you are showing 10 customers\n",
    "#    with tweaks 1, 2, 3, 4, and 5 as yes\n",
    "#    and tweak 6 is no.\n",
    "\n",
    "your_token = '6203062041' # enter a ten character string which is the\n",
    "                # concatenation of the two five digit tokens given to you.\n",
    "                # if your token is less than five digits, pad zero in the front."
   ]
  },
  {
   "cell_type": "code",
   "execution_count": 27,
   "metadata": {},
   "outputs": [],
   "source": [
    "cou = 0\n",
    "def recur(idx: int, arms: List[int]):\n",
    "    if idx == 7:\n",
    "        global cou\n",
    "        r = requests.post(f'{url}/update_state',\n",
    "                  json={\"times\":1, \"arms\":arms},\n",
    "                  headers= {\"Authorization\": your_token})\n",
    "        print(arms, r.content)\n",
    "        cou += 1\n",
    "        return\n",
    "    \n",
    "    recur(idx+1, arms + [idx])\n",
    "    recur(idx+1, arms)"
   ]
  },
  {
   "cell_type": "code",
   "execution_count": 28,
   "metadata": {},
   "outputs": [
    {
     "name": "stdout",
     "output_type": "stream",
     "text": [
      "[1, 2, 3, 4, 5, 6] b'<!DOCTYPE html>\\r\\n\\r\\n<html lang=\"en\">\\r\\n<head>\\r\\n    <meta charset=\"utf-8\">\\r\\n    <meta http-equiv=\"X-UA-Compatible\" content=\"IE=edge\">\\r\\n    <meta name=\"viewport\" content=\"width=device-width, initial-scale=.85\">\\r\\n    <meta http-equiv=\"pragma\" content=\"no-cache\">\\r\\n    <title></title>\\r\\n</head>\\r\\n\\r\\n<body>\\r\\n<div id=\"content\" class=\"container\">\\r\\n    <h1></h1>\\r\\n    <p></p>\\r\\n    <div class=\"response\">\\r\\n        <p></p>\\r\\n        <p></p>\\r\\n        <p></p>\\r\\n    </div>\\r\\n</div>\\r\\n</body>\\r\\n</html>\\r\\n'\n",
      "[1, 2, 3, 4, 5] b'<!DOCTYPE html>\\r\\n\\r\\n<html lang=\"en\">\\r\\n<head>\\r\\n    <meta charset=\"utf-8\">\\r\\n    <meta http-equiv=\"X-UA-Compatible\" content=\"IE=edge\">\\r\\n    <meta name=\"viewport\" content=\"width=device-width, initial-scale=.85\">\\r\\n    <meta http-equiv=\"pragma\" content=\"no-cache\">\\r\\n    <title></title>\\r\\n</head>\\r\\n\\r\\n<body>\\r\\n<div id=\"content\" class=\"container\">\\r\\n    <h1></h1>\\r\\n    <p></p>\\r\\n    <div class=\"response\">\\r\\n        <p></p>\\r\\n        <p></p>\\r\\n        <p></p>\\r\\n    </div>\\r\\n</div>\\r\\n</body>\\r\\n</html>\\r\\n'\n",
      "[1, 2, 3, 4, 6] b'<!DOCTYPE html>\\r\\n\\r\\n<html lang=\"en\">\\r\\n<head>\\r\\n    <meta charset=\"utf-8\">\\r\\n    <meta http-equiv=\"X-UA-Compatible\" content=\"IE=edge\">\\r\\n    <meta name=\"viewport\" content=\"width=device-width, initial-scale=.85\">\\r\\n    <meta http-equiv=\"pragma\" content=\"no-cache\">\\r\\n    <title></title>\\r\\n</head>\\r\\n\\r\\n<body>\\r\\n<div id=\"content\" class=\"container\">\\r\\n    <h1></h1>\\r\\n    <p></p>\\r\\n    <div class=\"response\">\\r\\n        <p></p>\\r\\n        <p></p>\\r\\n        <p></p>\\r\\n    </div>\\r\\n</div>\\r\\n</body>\\r\\n</html>\\r\\n'\n",
      "[1, 2, 3, 4] b'<!DOCTYPE html>\\r\\n\\r\\n<html lang=\"en\">\\r\\n<head>\\r\\n    <meta charset=\"utf-8\">\\r\\n    <meta http-equiv=\"X-UA-Compatible\" content=\"IE=edge\">\\r\\n    <meta name=\"viewport\" content=\"width=device-width, initial-scale=.85\">\\r\\n    <meta http-equiv=\"pragma\" content=\"no-cache\">\\r\\n    <title></title>\\r\\n</head>\\r\\n\\r\\n<body>\\r\\n<div id=\"content\" class=\"container\">\\r\\n    <h1></h1>\\r\\n    <p></p>\\r\\n    <div class=\"response\">\\r\\n        <p></p>\\r\\n        <p></p>\\r\\n        <p></p>\\r\\n    </div>\\r\\n</div>\\r\\n</body>\\r\\n</html>\\r\\n'\n",
      "[1, 2, 3, 5, 6] b'<!DOCTYPE html>\\r\\n\\r\\n<html lang=\"en\">\\r\\n<head>\\r\\n    <meta charset=\"utf-8\">\\r\\n    <meta http-equiv=\"X-UA-Compatible\" content=\"IE=edge\">\\r\\n    <meta name=\"viewport\" content=\"width=device-width, initial-scale=.85\">\\r\\n    <meta http-equiv=\"pragma\" content=\"no-cache\">\\r\\n    <title></title>\\r\\n</head>\\r\\n\\r\\n<body>\\r\\n<div id=\"content\" class=\"container\">\\r\\n    <h1></h1>\\r\\n    <p></p>\\r\\n    <div class=\"response\">\\r\\n        <p></p>\\r\\n        <p></p>\\r\\n        <p></p>\\r\\n    </div>\\r\\n</div>\\r\\n</body>\\r\\n</html>\\r\\n'\n",
      "[1, 2, 3, 5] b'<!DOCTYPE html>\\r\\n\\r\\n<html lang=\"en\">\\r\\n<head>\\r\\n    <meta charset=\"utf-8\">\\r\\n    <meta http-equiv=\"X-UA-Compatible\" content=\"IE=edge\">\\r\\n    <meta name=\"viewport\" content=\"width=device-width, initial-scale=.85\">\\r\\n    <meta http-equiv=\"pragma\" content=\"no-cache\">\\r\\n    <title></title>\\r\\n</head>\\r\\n\\r\\n<body>\\r\\n<div id=\"content\" class=\"container\">\\r\\n    <h1></h1>\\r\\n    <p></p>\\r\\n    <div class=\"response\">\\r\\n        <p></p>\\r\\n        <p></p>\\r\\n        <p></p>\\r\\n    </div>\\r\\n</div>\\r\\n</body>\\r\\n</html>\\r\\n'\n",
      "[1, 2, 3, 6] b'<!DOCTYPE html>\\r\\n\\r\\n<html lang=\"en\">\\r\\n<head>\\r\\n    <meta charset=\"utf-8\">\\r\\n    <meta http-equiv=\"X-UA-Compatible\" content=\"IE=edge\">\\r\\n    <meta name=\"viewport\" content=\"width=device-width, initial-scale=.85\">\\r\\n    <meta http-equiv=\"pragma\" content=\"no-cache\">\\r\\n    <title></title>\\r\\n</head>\\r\\n\\r\\n<body>\\r\\n<div id=\"content\" class=\"container\">\\r\\n    <h1></h1>\\r\\n    <p></p>\\r\\n    <div class=\"response\">\\r\\n        <p></p>\\r\\n        <p></p>\\r\\n        <p></p>\\r\\n    </div>\\r\\n</div>\\r\\n</body>\\r\\n</html>\\r\\n'\n",
      "[1, 2, 3] b'<!DOCTYPE html>\\r\\n\\r\\n<html lang=\"en\">\\r\\n<head>\\r\\n    <meta charset=\"utf-8\">\\r\\n    <meta http-equiv=\"X-UA-Compatible\" content=\"IE=edge\">\\r\\n    <meta name=\"viewport\" content=\"width=device-width, initial-scale=.85\">\\r\\n    <meta http-equiv=\"pragma\" content=\"no-cache\">\\r\\n    <title></title>\\r\\n</head>\\r\\n\\r\\n<body>\\r\\n<div id=\"content\" class=\"container\">\\r\\n    <h1></h1>\\r\\n    <p></p>\\r\\n    <div class=\"response\">\\r\\n        <p></p>\\r\\n        <p></p>\\r\\n        <p></p>\\r\\n    </div>\\r\\n</div>\\r\\n</body>\\r\\n</html>\\r\\n'\n",
      "[1, 2, 4, 5, 6] b'<!DOCTYPE html>\\r\\n\\r\\n<html lang=\"en\">\\r\\n<head>\\r\\n    <meta charset=\"utf-8\">\\r\\n    <meta http-equiv=\"X-UA-Compatible\" content=\"IE=edge\">\\r\\n    <meta name=\"viewport\" content=\"width=device-width, initial-scale=.85\">\\r\\n    <meta http-equiv=\"pragma\" content=\"no-cache\">\\r\\n    <title></title>\\r\\n</head>\\r\\n\\r\\n<body>\\r\\n<div id=\"content\" class=\"container\">\\r\\n    <h1></h1>\\r\\n    <p></p>\\r\\n    <div class=\"response\">\\r\\n        <p></p>\\r\\n        <p></p>\\r\\n        <p></p>\\r\\n    </div>\\r\\n</div>\\r\\n</body>\\r\\n</html>\\r\\n'\n",
      "[1, 2, 4, 5] b'<!DOCTYPE html>\\r\\n\\r\\n<html lang=\"en\">\\r\\n<head>\\r\\n    <meta charset=\"utf-8\">\\r\\n    <meta http-equiv=\"X-UA-Compatible\" content=\"IE=edge\">\\r\\n    <meta name=\"viewport\" content=\"width=device-width, initial-scale=.85\">\\r\\n    <meta http-equiv=\"pragma\" content=\"no-cache\">\\r\\n    <title></title>\\r\\n</head>\\r\\n\\r\\n<body>\\r\\n<div id=\"content\" class=\"container\">\\r\\n    <h1></h1>\\r\\n    <p></p>\\r\\n    <div class=\"response\">\\r\\n        <p></p>\\r\\n        <p></p>\\r\\n        <p></p>\\r\\n    </div>\\r\\n</div>\\r\\n</body>\\r\\n</html>\\r\\n'\n",
      "[1, 2, 4, 6] b'<!DOCTYPE html>\\r\\n\\r\\n<html lang=\"en\">\\r\\n<head>\\r\\n    <meta charset=\"utf-8\">\\r\\n    <meta http-equiv=\"X-UA-Compatible\" content=\"IE=edge\">\\r\\n    <meta name=\"viewport\" content=\"width=device-width, initial-scale=.85\">\\r\\n    <meta http-equiv=\"pragma\" content=\"no-cache\">\\r\\n    <title></title>\\r\\n</head>\\r\\n\\r\\n<body>\\r\\n<div id=\"content\" class=\"container\">\\r\\n    <h1></h1>\\r\\n    <p></p>\\r\\n    <div class=\"response\">\\r\\n        <p></p>\\r\\n        <p></p>\\r\\n        <p></p>\\r\\n    </div>\\r\\n</div>\\r\\n</body>\\r\\n</html>\\r\\n'\n",
      "[1, 2, 4] b'<!DOCTYPE html>\\r\\n\\r\\n<html lang=\"en\">\\r\\n<head>\\r\\n    <meta charset=\"utf-8\">\\r\\n    <meta http-equiv=\"X-UA-Compatible\" content=\"IE=edge\">\\r\\n    <meta name=\"viewport\" content=\"width=device-width, initial-scale=.85\">\\r\\n    <meta http-equiv=\"pragma\" content=\"no-cache\">\\r\\n    <title></title>\\r\\n</head>\\r\\n\\r\\n<body>\\r\\n<div id=\"content\" class=\"container\">\\r\\n    <h1></h1>\\r\\n    <p></p>\\r\\n    <div class=\"response\">\\r\\n        <p></p>\\r\\n        <p></p>\\r\\n        <p></p>\\r\\n    </div>\\r\\n</div>\\r\\n</body>\\r\\n</html>\\r\\n'\n",
      "[1, 2, 5, 6] b'<!DOCTYPE html>\\r\\n\\r\\n<html lang=\"en\">\\r\\n<head>\\r\\n    <meta charset=\"utf-8\">\\r\\n    <meta http-equiv=\"X-UA-Compatible\" content=\"IE=edge\">\\r\\n    <meta name=\"viewport\" content=\"width=device-width, initial-scale=.85\">\\r\\n    <meta http-equiv=\"pragma\" content=\"no-cache\">\\r\\n    <title></title>\\r\\n</head>\\r\\n\\r\\n<body>\\r\\n<div id=\"content\" class=\"container\">\\r\\n    <h1></h1>\\r\\n    <p></p>\\r\\n    <div class=\"response\">\\r\\n        <p></p>\\r\\n        <p></p>\\r\\n        <p></p>\\r\\n    </div>\\r\\n</div>\\r\\n</body>\\r\\n</html>\\r\\n'\n",
      "[1, 2, 5] b'<!DOCTYPE html>\\r\\n\\r\\n<html lang=\"en\">\\r\\n<head>\\r\\n    <meta charset=\"utf-8\">\\r\\n    <meta http-equiv=\"X-UA-Compatible\" content=\"IE=edge\">\\r\\n    <meta name=\"viewport\" content=\"width=device-width, initial-scale=.85\">\\r\\n    <meta http-equiv=\"pragma\" content=\"no-cache\">\\r\\n    <title></title>\\r\\n</head>\\r\\n\\r\\n<body>\\r\\n<div id=\"content\" class=\"container\">\\r\\n    <h1></h1>\\r\\n    <p></p>\\r\\n    <div class=\"response\">\\r\\n        <p></p>\\r\\n        <p></p>\\r\\n        <p></p>\\r\\n    </div>\\r\\n</div>\\r\\n</body>\\r\\n</html>\\r\\n'\n",
      "[1, 2, 6] b'<!DOCTYPE html>\\r\\n\\r\\n<html lang=\"en\">\\r\\n<head>\\r\\n    <meta charset=\"utf-8\">\\r\\n    <meta http-equiv=\"X-UA-Compatible\" content=\"IE=edge\">\\r\\n    <meta name=\"viewport\" content=\"width=device-width, initial-scale=.85\">\\r\\n    <meta http-equiv=\"pragma\" content=\"no-cache\">\\r\\n    <title></title>\\r\\n</head>\\r\\n\\r\\n<body>\\r\\n<div id=\"content\" class=\"container\">\\r\\n    <h1></h1>\\r\\n    <p></p>\\r\\n    <div class=\"response\">\\r\\n        <p></p>\\r\\n        <p></p>\\r\\n        <p></p>\\r\\n    </div>\\r\\n</div>\\r\\n</body>\\r\\n</html>\\r\\n'\n",
      "[1, 2] b'<!DOCTYPE html>\\r\\n\\r\\n<html lang=\"en\">\\r\\n<head>\\r\\n    <meta charset=\"utf-8\">\\r\\n    <meta http-equiv=\"X-UA-Compatible\" content=\"IE=edge\">\\r\\n    <meta name=\"viewport\" content=\"width=device-width, initial-scale=.85\">\\r\\n    <meta http-equiv=\"pragma\" content=\"no-cache\">\\r\\n    <title></title>\\r\\n</head>\\r\\n\\r\\n<body>\\r\\n<div id=\"content\" class=\"container\">\\r\\n    <h1></h1>\\r\\n    <p></p>\\r\\n    <div class=\"response\">\\r\\n        <p></p>\\r\\n        <p></p>\\r\\n        <p></p>\\r\\n    </div>\\r\\n</div>\\r\\n</body>\\r\\n</html>\\r\\n'\n",
      "[1, 3, 4, 5, 6] b'<!DOCTYPE html>\\r\\n\\r\\n<html lang=\"en\">\\r\\n<head>\\r\\n    <meta charset=\"utf-8\">\\r\\n    <meta http-equiv=\"X-UA-Compatible\" content=\"IE=edge\">\\r\\n    <meta name=\"viewport\" content=\"width=device-width, initial-scale=.85\">\\r\\n    <meta http-equiv=\"pragma\" content=\"no-cache\">\\r\\n    <title></title>\\r\\n</head>\\r\\n\\r\\n<body>\\r\\n<div id=\"content\" class=\"container\">\\r\\n    <h1></h1>\\r\\n    <p></p>\\r\\n    <div class=\"response\">\\r\\n        <p></p>\\r\\n        <p></p>\\r\\n        <p></p>\\r\\n    </div>\\r\\n</div>\\r\\n</body>\\r\\n</html>\\r\\n'\n",
      "[1, 3, 4, 5] b'<!DOCTYPE html>\\r\\n\\r\\n<html lang=\"en\">\\r\\n<head>\\r\\n    <meta charset=\"utf-8\">\\r\\n    <meta http-equiv=\"X-UA-Compatible\" content=\"IE=edge\">\\r\\n    <meta name=\"viewport\" content=\"width=device-width, initial-scale=.85\">\\r\\n    <meta http-equiv=\"pragma\" content=\"no-cache\">\\r\\n    <title></title>\\r\\n</head>\\r\\n\\r\\n<body>\\r\\n<div id=\"content\" class=\"container\">\\r\\n    <h1></h1>\\r\\n    <p></p>\\r\\n    <div class=\"response\">\\r\\n        <p></p>\\r\\n        <p></p>\\r\\n        <p></p>\\r\\n    </div>\\r\\n</div>\\r\\n</body>\\r\\n</html>\\r\\n'\n",
      "[1, 3, 4, 6] b'<!DOCTYPE html>\\r\\n\\r\\n<html lang=\"en\">\\r\\n<head>\\r\\n    <meta charset=\"utf-8\">\\r\\n    <meta http-equiv=\"X-UA-Compatible\" content=\"IE=edge\">\\r\\n    <meta name=\"viewport\" content=\"width=device-width, initial-scale=.85\">\\r\\n    <meta http-equiv=\"pragma\" content=\"no-cache\">\\r\\n    <title></title>\\r\\n</head>\\r\\n\\r\\n<body>\\r\\n<div id=\"content\" class=\"container\">\\r\\n    <h1></h1>\\r\\n    <p></p>\\r\\n    <div class=\"response\">\\r\\n        <p></p>\\r\\n        <p></p>\\r\\n        <p></p>\\r\\n    </div>\\r\\n</div>\\r\\n</body>\\r\\n</html>\\r\\n'\n",
      "[1, 3, 4] b'<!DOCTYPE html>\\r\\n\\r\\n<html lang=\"en\">\\r\\n<head>\\r\\n    <meta charset=\"utf-8\">\\r\\n    <meta http-equiv=\"X-UA-Compatible\" content=\"IE=edge\">\\r\\n    <meta name=\"viewport\" content=\"width=device-width, initial-scale=.85\">\\r\\n    <meta http-equiv=\"pragma\" content=\"no-cache\">\\r\\n    <title></title>\\r\\n</head>\\r\\n\\r\\n<body>\\r\\n<div id=\"content\" class=\"container\">\\r\\n    <h1></h1>\\r\\n    <p></p>\\r\\n    <div class=\"response\">\\r\\n        <p></p>\\r\\n        <p></p>\\r\\n        <p></p>\\r\\n    </div>\\r\\n</div>\\r\\n</body>\\r\\n</html>\\r\\n'\n",
      "[1, 3, 5, 6] b'<!DOCTYPE html>\\r\\n\\r\\n<html lang=\"en\">\\r\\n<head>\\r\\n    <meta charset=\"utf-8\">\\r\\n    <meta http-equiv=\"X-UA-Compatible\" content=\"IE=edge\">\\r\\n    <meta name=\"viewport\" content=\"width=device-width, initial-scale=.85\">\\r\\n    <meta http-equiv=\"pragma\" content=\"no-cache\">\\r\\n    <title></title>\\r\\n</head>\\r\\n\\r\\n<body>\\r\\n<div id=\"content\" class=\"container\">\\r\\n    <h1></h1>\\r\\n    <p></p>\\r\\n    <div class=\"response\">\\r\\n        <p></p>\\r\\n        <p></p>\\r\\n        <p></p>\\r\\n    </div>\\r\\n</div>\\r\\n</body>\\r\\n</html>\\r\\n'\n",
      "[1, 3, 5] b'<!DOCTYPE html>\\r\\n\\r\\n<html lang=\"en\">\\r\\n<head>\\r\\n    <meta charset=\"utf-8\">\\r\\n    <meta http-equiv=\"X-UA-Compatible\" content=\"IE=edge\">\\r\\n    <meta name=\"viewport\" content=\"width=device-width, initial-scale=.85\">\\r\\n    <meta http-equiv=\"pragma\" content=\"no-cache\">\\r\\n    <title></title>\\r\\n</head>\\r\\n\\r\\n<body>\\r\\n<div id=\"content\" class=\"container\">\\r\\n    <h1></h1>\\r\\n    <p></p>\\r\\n    <div class=\"response\">\\r\\n        <p></p>\\r\\n        <p></p>\\r\\n        <p></p>\\r\\n    </div>\\r\\n</div>\\r\\n</body>\\r\\n</html>\\r\\n'\n",
      "[1, 3, 6] b'<!DOCTYPE html>\\r\\n\\r\\n<html lang=\"en\">\\r\\n<head>\\r\\n    <meta charset=\"utf-8\">\\r\\n    <meta http-equiv=\"X-UA-Compatible\" content=\"IE=edge\">\\r\\n    <meta name=\"viewport\" content=\"width=device-width, initial-scale=.85\">\\r\\n    <meta http-equiv=\"pragma\" content=\"no-cache\">\\r\\n    <title></title>\\r\\n</head>\\r\\n\\r\\n<body>\\r\\n<div id=\"content\" class=\"container\">\\r\\n    <h1></h1>\\r\\n    <p></p>\\r\\n    <div class=\"response\">\\r\\n        <p></p>\\r\\n        <p></p>\\r\\n        <p></p>\\r\\n    </div>\\r\\n</div>\\r\\n</body>\\r\\n</html>\\r\\n'\n",
      "[1, 3] b'<!DOCTYPE html>\\r\\n\\r\\n<html lang=\"en\">\\r\\n<head>\\r\\n    <meta charset=\"utf-8\">\\r\\n    <meta http-equiv=\"X-UA-Compatible\" content=\"IE=edge\">\\r\\n    <meta name=\"viewport\" content=\"width=device-width, initial-scale=.85\">\\r\\n    <meta http-equiv=\"pragma\" content=\"no-cache\">\\r\\n    <title></title>\\r\\n</head>\\r\\n\\r\\n<body>\\r\\n<div id=\"content\" class=\"container\">\\r\\n    <h1></h1>\\r\\n    <p></p>\\r\\n    <div class=\"response\">\\r\\n        <p></p>\\r\\n        <p></p>\\r\\n        <p></p>\\r\\n    </div>\\r\\n</div>\\r\\n</body>\\r\\n</html>\\r\\n'\n",
      "[1, 4, 5, 6] b'<!DOCTYPE html>\\r\\n\\r\\n<html lang=\"en\">\\r\\n<head>\\r\\n    <meta charset=\"utf-8\">\\r\\n    <meta http-equiv=\"X-UA-Compatible\" content=\"IE=edge\">\\r\\n    <meta name=\"viewport\" content=\"width=device-width, initial-scale=.85\">\\r\\n    <meta http-equiv=\"pragma\" content=\"no-cache\">\\r\\n    <title></title>\\r\\n</head>\\r\\n\\r\\n<body>\\r\\n<div id=\"content\" class=\"container\">\\r\\n    <h1></h1>\\r\\n    <p></p>\\r\\n    <div class=\"response\">\\r\\n        <p></p>\\r\\n        <p></p>\\r\\n        <p></p>\\r\\n    </div>\\r\\n</div>\\r\\n</body>\\r\\n</html>\\r\\n'\n",
      "[1, 4, 5] b'<!DOCTYPE html>\\r\\n\\r\\n<html lang=\"en\">\\r\\n<head>\\r\\n    <meta charset=\"utf-8\">\\r\\n    <meta http-equiv=\"X-UA-Compatible\" content=\"IE=edge\">\\r\\n    <meta name=\"viewport\" content=\"width=device-width, initial-scale=.85\">\\r\\n    <meta http-equiv=\"pragma\" content=\"no-cache\">\\r\\n    <title></title>\\r\\n</head>\\r\\n\\r\\n<body>\\r\\n<div id=\"content\" class=\"container\">\\r\\n    <h1></h1>\\r\\n    <p></p>\\r\\n    <div class=\"response\">\\r\\n        <p></p>\\r\\n        <p></p>\\r\\n        <p></p>\\r\\n    </div>\\r\\n</div>\\r\\n</body>\\r\\n</html>\\r\\n'\n",
      "[1, 4, 6] b'<!DOCTYPE html>\\r\\n\\r\\n<html lang=\"en\">\\r\\n<head>\\r\\n    <meta charset=\"utf-8\">\\r\\n    <meta http-equiv=\"X-UA-Compatible\" content=\"IE=edge\">\\r\\n    <meta name=\"viewport\" content=\"width=device-width, initial-scale=.85\">\\r\\n    <meta http-equiv=\"pragma\" content=\"no-cache\">\\r\\n    <title></title>\\r\\n</head>\\r\\n\\r\\n<body>\\r\\n<div id=\"content\" class=\"container\">\\r\\n    <h1></h1>\\r\\n    <p></p>\\r\\n    <div class=\"response\">\\r\\n        <p></p>\\r\\n        <p></p>\\r\\n        <p></p>\\r\\n    </div>\\r\\n</div>\\r\\n</body>\\r\\n</html>\\r\\n'\n",
      "[1, 4] b'<!DOCTYPE html>\\r\\n\\r\\n<html lang=\"en\">\\r\\n<head>\\r\\n    <meta charset=\"utf-8\">\\r\\n    <meta http-equiv=\"X-UA-Compatible\" content=\"IE=edge\">\\r\\n    <meta name=\"viewport\" content=\"width=device-width, initial-scale=.85\">\\r\\n    <meta http-equiv=\"pragma\" content=\"no-cache\">\\r\\n    <title></title>\\r\\n</head>\\r\\n\\r\\n<body>\\r\\n<div id=\"content\" class=\"container\">\\r\\n    <h1></h1>\\r\\n    <p></p>\\r\\n    <div class=\"response\">\\r\\n        <p></p>\\r\\n        <p></p>\\r\\n        <p></p>\\r\\n    </div>\\r\\n</div>\\r\\n</body>\\r\\n</html>\\r\\n'\n",
      "[1, 5, 6] b'<!DOCTYPE html>\\r\\n\\r\\n<html lang=\"en\">\\r\\n<head>\\r\\n    <meta charset=\"utf-8\">\\r\\n    <meta http-equiv=\"X-UA-Compatible\" content=\"IE=edge\">\\r\\n    <meta name=\"viewport\" content=\"width=device-width, initial-scale=.85\">\\r\\n    <meta http-equiv=\"pragma\" content=\"no-cache\">\\r\\n    <title></title>\\r\\n</head>\\r\\n\\r\\n<body>\\r\\n<div id=\"content\" class=\"container\">\\r\\n    <h1></h1>\\r\\n    <p></p>\\r\\n    <div class=\"response\">\\r\\n        <p></p>\\r\\n        <p></p>\\r\\n        <p></p>\\r\\n    </div>\\r\\n</div>\\r\\n</body>\\r\\n</html>\\r\\n'\n",
      "[1, 5] b'<!DOCTYPE html>\\r\\n\\r\\n<html lang=\"en\">\\r\\n<head>\\r\\n    <meta charset=\"utf-8\">\\r\\n    <meta http-equiv=\"X-UA-Compatible\" content=\"IE=edge\">\\r\\n    <meta name=\"viewport\" content=\"width=device-width, initial-scale=.85\">\\r\\n    <meta http-equiv=\"pragma\" content=\"no-cache\">\\r\\n    <title></title>\\r\\n</head>\\r\\n\\r\\n<body>\\r\\n<div id=\"content\" class=\"container\">\\r\\n    <h1></h1>\\r\\n    <p></p>\\r\\n    <div class=\"response\">\\r\\n        <p></p>\\r\\n        <p></p>\\r\\n        <p></p>\\r\\n    </div>\\r\\n</div>\\r\\n</body>\\r\\n</html>\\r\\n'\n",
      "[1, 6] b'<!DOCTYPE html>\\r\\n\\r\\n<html lang=\"en\">\\r\\n<head>\\r\\n    <meta charset=\"utf-8\">\\r\\n    <meta http-equiv=\"X-UA-Compatible\" content=\"IE=edge\">\\r\\n    <meta name=\"viewport\" content=\"width=device-width, initial-scale=.85\">\\r\\n    <meta http-equiv=\"pragma\" content=\"no-cache\">\\r\\n    <title></title>\\r\\n</head>\\r\\n\\r\\n<body>\\r\\n<div id=\"content\" class=\"container\">\\r\\n    <h1></h1>\\r\\n    <p></p>\\r\\n    <div class=\"response\">\\r\\n        <p></p>\\r\\n        <p></p>\\r\\n        <p></p>\\r\\n    </div>\\r\\n</div>\\r\\n</body>\\r\\n</html>\\r\\n'\n",
      "[1] b'<!DOCTYPE html>\\r\\n\\r\\n<html lang=\"en\">\\r\\n<head>\\r\\n    <meta charset=\"utf-8\">\\r\\n    <meta http-equiv=\"X-UA-Compatible\" content=\"IE=edge\">\\r\\n    <meta name=\"viewport\" content=\"width=device-width, initial-scale=.85\">\\r\\n    <meta http-equiv=\"pragma\" content=\"no-cache\">\\r\\n    <title></title>\\r\\n</head>\\r\\n\\r\\n<body>\\r\\n<div id=\"content\" class=\"container\">\\r\\n    <h1></h1>\\r\\n    <p></p>\\r\\n    <div class=\"response\">\\r\\n        <p></p>\\r\\n        <p></p>\\r\\n        <p></p>\\r\\n    </div>\\r\\n</div>\\r\\n</body>\\r\\n</html>\\r\\n'\n",
      "[2, 3, 4, 5, 6] b'<!DOCTYPE html>\\r\\n\\r\\n<html lang=\"en\">\\r\\n<head>\\r\\n    <meta charset=\"utf-8\">\\r\\n    <meta http-equiv=\"X-UA-Compatible\" content=\"IE=edge\">\\r\\n    <meta name=\"viewport\" content=\"width=device-width, initial-scale=.85\">\\r\\n    <meta http-equiv=\"pragma\" content=\"no-cache\">\\r\\n    <title></title>\\r\\n</head>\\r\\n\\r\\n<body>\\r\\n<div id=\"content\" class=\"container\">\\r\\n    <h1></h1>\\r\\n    <p></p>\\r\\n    <div class=\"response\">\\r\\n        <p></p>\\r\\n        <p></p>\\r\\n        <p></p>\\r\\n    </div>\\r\\n</div>\\r\\n</body>\\r\\n</html>\\r\\n'\n",
      "[2, 3, 4, 5] b'<!DOCTYPE html>\\r\\n\\r\\n<html lang=\"en\">\\r\\n<head>\\r\\n    <meta charset=\"utf-8\">\\r\\n    <meta http-equiv=\"X-UA-Compatible\" content=\"IE=edge\">\\r\\n    <meta name=\"viewport\" content=\"width=device-width, initial-scale=.85\">\\r\\n    <meta http-equiv=\"pragma\" content=\"no-cache\">\\r\\n    <title></title>\\r\\n</head>\\r\\n\\r\\n<body>\\r\\n<div id=\"content\" class=\"container\">\\r\\n    <h1></h1>\\r\\n    <p></p>\\r\\n    <div class=\"response\">\\r\\n        <p></p>\\r\\n        <p></p>\\r\\n        <p></p>\\r\\n    </div>\\r\\n</div>\\r\\n</body>\\r\\n</html>\\r\\n'\n",
      "[2, 3, 4, 6] b'<!DOCTYPE html>\\r\\n\\r\\n<html lang=\"en\">\\r\\n<head>\\r\\n    <meta charset=\"utf-8\">\\r\\n    <meta http-equiv=\"X-UA-Compatible\" content=\"IE=edge\">\\r\\n    <meta name=\"viewport\" content=\"width=device-width, initial-scale=.85\">\\r\\n    <meta http-equiv=\"pragma\" content=\"no-cache\">\\r\\n    <title></title>\\r\\n</head>\\r\\n\\r\\n<body>\\r\\n<div id=\"content\" class=\"container\">\\r\\n    <h1></h1>\\r\\n    <p></p>\\r\\n    <div class=\"response\">\\r\\n        <p></p>\\r\\n        <p></p>\\r\\n        <p></p>\\r\\n    </div>\\r\\n</div>\\r\\n</body>\\r\\n</html>\\r\\n'\n",
      "[2, 3, 4] b'<!DOCTYPE html>\\r\\n\\r\\n<html lang=\"en\">\\r\\n<head>\\r\\n    <meta charset=\"utf-8\">\\r\\n    <meta http-equiv=\"X-UA-Compatible\" content=\"IE=edge\">\\r\\n    <meta name=\"viewport\" content=\"width=device-width, initial-scale=.85\">\\r\\n    <meta http-equiv=\"pragma\" content=\"no-cache\">\\r\\n    <title></title>\\r\\n</head>\\r\\n\\r\\n<body>\\r\\n<div id=\"content\" class=\"container\">\\r\\n    <h1></h1>\\r\\n    <p></p>\\r\\n    <div class=\"response\">\\r\\n        <p></p>\\r\\n        <p></p>\\r\\n        <p></p>\\r\\n    </div>\\r\\n</div>\\r\\n</body>\\r\\n</html>\\r\\n'\n",
      "[2, 3, 5, 6] b'<!DOCTYPE html>\\r\\n\\r\\n<html lang=\"en\">\\r\\n<head>\\r\\n    <meta charset=\"utf-8\">\\r\\n    <meta http-equiv=\"X-UA-Compatible\" content=\"IE=edge\">\\r\\n    <meta name=\"viewport\" content=\"width=device-width, initial-scale=.85\">\\r\\n    <meta http-equiv=\"pragma\" content=\"no-cache\">\\r\\n    <title></title>\\r\\n</head>\\r\\n\\r\\n<body>\\r\\n<div id=\"content\" class=\"container\">\\r\\n    <h1></h1>\\r\\n    <p></p>\\r\\n    <div class=\"response\">\\r\\n        <p></p>\\r\\n        <p></p>\\r\\n        <p></p>\\r\\n    </div>\\r\\n</div>\\r\\n</body>\\r\\n</html>\\r\\n'\n",
      "[2, 3, 5] b'<!DOCTYPE html>\\r\\n\\r\\n<html lang=\"en\">\\r\\n<head>\\r\\n    <meta charset=\"utf-8\">\\r\\n    <meta http-equiv=\"X-UA-Compatible\" content=\"IE=edge\">\\r\\n    <meta name=\"viewport\" content=\"width=device-width, initial-scale=.85\">\\r\\n    <meta http-equiv=\"pragma\" content=\"no-cache\">\\r\\n    <title></title>\\r\\n</head>\\r\\n\\r\\n<body>\\r\\n<div id=\"content\" class=\"container\">\\r\\n    <h1></h1>\\r\\n    <p></p>\\r\\n    <div class=\"response\">\\r\\n        <p></p>\\r\\n        <p></p>\\r\\n        <p></p>\\r\\n    </div>\\r\\n</div>\\r\\n</body>\\r\\n</html>\\r\\n'\n",
      "[2, 3, 6] b'<!DOCTYPE html>\\r\\n\\r\\n<html lang=\"en\">\\r\\n<head>\\r\\n    <meta charset=\"utf-8\">\\r\\n    <meta http-equiv=\"X-UA-Compatible\" content=\"IE=edge\">\\r\\n    <meta name=\"viewport\" content=\"width=device-width, initial-scale=.85\">\\r\\n    <meta http-equiv=\"pragma\" content=\"no-cache\">\\r\\n    <title></title>\\r\\n</head>\\r\\n\\r\\n<body>\\r\\n<div id=\"content\" class=\"container\">\\r\\n    <h1></h1>\\r\\n    <p></p>\\r\\n    <div class=\"response\">\\r\\n        <p></p>\\r\\n        <p></p>\\r\\n        <p></p>\\r\\n    </div>\\r\\n</div>\\r\\n</body>\\r\\n</html>\\r\\n'\n",
      "[2, 3] b'<!DOCTYPE html>\\r\\n\\r\\n<html lang=\"en\">\\r\\n<head>\\r\\n    <meta charset=\"utf-8\">\\r\\n    <meta http-equiv=\"X-UA-Compatible\" content=\"IE=edge\">\\r\\n    <meta name=\"viewport\" content=\"width=device-width, initial-scale=.85\">\\r\\n    <meta http-equiv=\"pragma\" content=\"no-cache\">\\r\\n    <title></title>\\r\\n</head>\\r\\n\\r\\n<body>\\r\\n<div id=\"content\" class=\"container\">\\r\\n    <h1></h1>\\r\\n    <p></p>\\r\\n    <div class=\"response\">\\r\\n        <p></p>\\r\\n        <p></p>\\r\\n        <p></p>\\r\\n    </div>\\r\\n</div>\\r\\n</body>\\r\\n</html>\\r\\n'\n",
      "[2, 4, 5, 6] b'<!DOCTYPE html>\\r\\n\\r\\n<html lang=\"en\">\\r\\n<head>\\r\\n    <meta charset=\"utf-8\">\\r\\n    <meta http-equiv=\"X-UA-Compatible\" content=\"IE=edge\">\\r\\n    <meta name=\"viewport\" content=\"width=device-width, initial-scale=.85\">\\r\\n    <meta http-equiv=\"pragma\" content=\"no-cache\">\\r\\n    <title></title>\\r\\n</head>\\r\\n\\r\\n<body>\\r\\n<div id=\"content\" class=\"container\">\\r\\n    <h1></h1>\\r\\n    <p></p>\\r\\n    <div class=\"response\">\\r\\n        <p></p>\\r\\n        <p></p>\\r\\n        <p></p>\\r\\n    </div>\\r\\n</div>\\r\\n</body>\\r\\n</html>\\r\\n'\n",
      "[2, 4, 5] b'<!DOCTYPE html>\\r\\n\\r\\n<html lang=\"en\">\\r\\n<head>\\r\\n    <meta charset=\"utf-8\">\\r\\n    <meta http-equiv=\"X-UA-Compatible\" content=\"IE=edge\">\\r\\n    <meta name=\"viewport\" content=\"width=device-width, initial-scale=.85\">\\r\\n    <meta http-equiv=\"pragma\" content=\"no-cache\">\\r\\n    <title></title>\\r\\n</head>\\r\\n\\r\\n<body>\\r\\n<div id=\"content\" class=\"container\">\\r\\n    <h1></h1>\\r\\n    <p></p>\\r\\n    <div class=\"response\">\\r\\n        <p></p>\\r\\n        <p></p>\\r\\n        <p></p>\\r\\n    </div>\\r\\n</div>\\r\\n</body>\\r\\n</html>\\r\\n'\n",
      "[2, 4, 6] b'<!DOCTYPE html>\\r\\n\\r\\n<html lang=\"en\">\\r\\n<head>\\r\\n    <meta charset=\"utf-8\">\\r\\n    <meta http-equiv=\"X-UA-Compatible\" content=\"IE=edge\">\\r\\n    <meta name=\"viewport\" content=\"width=device-width, initial-scale=.85\">\\r\\n    <meta http-equiv=\"pragma\" content=\"no-cache\">\\r\\n    <title></title>\\r\\n</head>\\r\\n\\r\\n<body>\\r\\n<div id=\"content\" class=\"container\">\\r\\n    <h1></h1>\\r\\n    <p></p>\\r\\n    <div class=\"response\">\\r\\n        <p></p>\\r\\n        <p></p>\\r\\n        <p></p>\\r\\n    </div>\\r\\n</div>\\r\\n</body>\\r\\n</html>\\r\\n'\n",
      "[2, 4] b'<!DOCTYPE html>\\r\\n\\r\\n<html lang=\"en\">\\r\\n<head>\\r\\n    <meta charset=\"utf-8\">\\r\\n    <meta http-equiv=\"X-UA-Compatible\" content=\"IE=edge\">\\r\\n    <meta name=\"viewport\" content=\"width=device-width, initial-scale=.85\">\\r\\n    <meta http-equiv=\"pragma\" content=\"no-cache\">\\r\\n    <title></title>\\r\\n</head>\\r\\n\\r\\n<body>\\r\\n<div id=\"content\" class=\"container\">\\r\\n    <h1></h1>\\r\\n    <p></p>\\r\\n    <div class=\"response\">\\r\\n        <p></p>\\r\\n        <p></p>\\r\\n        <p></p>\\r\\n    </div>\\r\\n</div>\\r\\n</body>\\r\\n</html>\\r\\n'\n",
      "[2, 5, 6] b'<!DOCTYPE html>\\r\\n\\r\\n<html lang=\"en\">\\r\\n<head>\\r\\n    <meta charset=\"utf-8\">\\r\\n    <meta http-equiv=\"X-UA-Compatible\" content=\"IE=edge\">\\r\\n    <meta name=\"viewport\" content=\"width=device-width, initial-scale=.85\">\\r\\n    <meta http-equiv=\"pragma\" content=\"no-cache\">\\r\\n    <title></title>\\r\\n</head>\\r\\n\\r\\n<body>\\r\\n<div id=\"content\" class=\"container\">\\r\\n    <h1></h1>\\r\\n    <p></p>\\r\\n    <div class=\"response\">\\r\\n        <p></p>\\r\\n        <p></p>\\r\\n        <p></p>\\r\\n    </div>\\r\\n</div>\\r\\n</body>\\r\\n</html>\\r\\n'\n",
      "[2, 5] b'<!DOCTYPE html>\\r\\n\\r\\n<html lang=\"en\">\\r\\n<head>\\r\\n    <meta charset=\"utf-8\">\\r\\n    <meta http-equiv=\"X-UA-Compatible\" content=\"IE=edge\">\\r\\n    <meta name=\"viewport\" content=\"width=device-width, initial-scale=.85\">\\r\\n    <meta http-equiv=\"pragma\" content=\"no-cache\">\\r\\n    <title></title>\\r\\n</head>\\r\\n\\r\\n<body>\\r\\n<div id=\"content\" class=\"container\">\\r\\n    <h1></h1>\\r\\n    <p></p>\\r\\n    <div class=\"response\">\\r\\n        <p></p>\\r\\n        <p></p>\\r\\n        <p></p>\\r\\n    </div>\\r\\n</div>\\r\\n</body>\\r\\n</html>\\r\\n'\n",
      "[2, 6] b'<!DOCTYPE html>\\r\\n\\r\\n<html lang=\"en\">\\r\\n<head>\\r\\n    <meta charset=\"utf-8\">\\r\\n    <meta http-equiv=\"X-UA-Compatible\" content=\"IE=edge\">\\r\\n    <meta name=\"viewport\" content=\"width=device-width, initial-scale=.85\">\\r\\n    <meta http-equiv=\"pragma\" content=\"no-cache\">\\r\\n    <title></title>\\r\\n</head>\\r\\n\\r\\n<body>\\r\\n<div id=\"content\" class=\"container\">\\r\\n    <h1></h1>\\r\\n    <p></p>\\r\\n    <div class=\"response\">\\r\\n        <p></p>\\r\\n        <p></p>\\r\\n        <p></p>\\r\\n    </div>\\r\\n</div>\\r\\n</body>\\r\\n</html>\\r\\n'\n",
      "[2] b'<!DOCTYPE html>\\r\\n\\r\\n<html lang=\"en\">\\r\\n<head>\\r\\n    <meta charset=\"utf-8\">\\r\\n    <meta http-equiv=\"X-UA-Compatible\" content=\"IE=edge\">\\r\\n    <meta name=\"viewport\" content=\"width=device-width, initial-scale=.85\">\\r\\n    <meta http-equiv=\"pragma\" content=\"no-cache\">\\r\\n    <title></title>\\r\\n</head>\\r\\n\\r\\n<body>\\r\\n<div id=\"content\" class=\"container\">\\r\\n    <h1></h1>\\r\\n    <p></p>\\r\\n    <div class=\"response\">\\r\\n        <p></p>\\r\\n        <p></p>\\r\\n        <p></p>\\r\\n    </div>\\r\\n</div>\\r\\n</body>\\r\\n</html>\\r\\n'\n",
      "[3, 4, 5, 6] b'<!DOCTYPE html>\\r\\n\\r\\n<html lang=\"en\">\\r\\n<head>\\r\\n    <meta charset=\"utf-8\">\\r\\n    <meta http-equiv=\"X-UA-Compatible\" content=\"IE=edge\">\\r\\n    <meta name=\"viewport\" content=\"width=device-width, initial-scale=.85\">\\r\\n    <meta http-equiv=\"pragma\" content=\"no-cache\">\\r\\n    <title></title>\\r\\n</head>\\r\\n\\r\\n<body>\\r\\n<div id=\"content\" class=\"container\">\\r\\n    <h1></h1>\\r\\n    <p></p>\\r\\n    <div class=\"response\">\\r\\n        <p></p>\\r\\n        <p></p>\\r\\n        <p></p>\\r\\n    </div>\\r\\n</div>\\r\\n</body>\\r\\n</html>\\r\\n'\n",
      "[3, 4, 5] b'<!DOCTYPE html>\\r\\n\\r\\n<html lang=\"en\">\\r\\n<head>\\r\\n    <meta charset=\"utf-8\">\\r\\n    <meta http-equiv=\"X-UA-Compatible\" content=\"IE=edge\">\\r\\n    <meta name=\"viewport\" content=\"width=device-width, initial-scale=.85\">\\r\\n    <meta http-equiv=\"pragma\" content=\"no-cache\">\\r\\n    <title></title>\\r\\n</head>\\r\\n\\r\\n<body>\\r\\n<div id=\"content\" class=\"container\">\\r\\n    <h1></h1>\\r\\n    <p></p>\\r\\n    <div class=\"response\">\\r\\n        <p></p>\\r\\n        <p></p>\\r\\n        <p></p>\\r\\n    </div>\\r\\n</div>\\r\\n</body>\\r\\n</html>\\r\\n'\n",
      "[3, 4, 6] b'<!DOCTYPE html>\\r\\n\\r\\n<html lang=\"en\">\\r\\n<head>\\r\\n    <meta charset=\"utf-8\">\\r\\n    <meta http-equiv=\"X-UA-Compatible\" content=\"IE=edge\">\\r\\n    <meta name=\"viewport\" content=\"width=device-width, initial-scale=.85\">\\r\\n    <meta http-equiv=\"pragma\" content=\"no-cache\">\\r\\n    <title></title>\\r\\n</head>\\r\\n\\r\\n<body>\\r\\n<div id=\"content\" class=\"container\">\\r\\n    <h1></h1>\\r\\n    <p></p>\\r\\n    <div class=\"response\">\\r\\n        <p></p>\\r\\n        <p></p>\\r\\n        <p></p>\\r\\n    </div>\\r\\n</div>\\r\\n</body>\\r\\n</html>\\r\\n'\n",
      "[3, 4] b'<!DOCTYPE html>\\r\\n\\r\\n<html lang=\"en\">\\r\\n<head>\\r\\n    <meta charset=\"utf-8\">\\r\\n    <meta http-equiv=\"X-UA-Compatible\" content=\"IE=edge\">\\r\\n    <meta name=\"viewport\" content=\"width=device-width, initial-scale=.85\">\\r\\n    <meta http-equiv=\"pragma\" content=\"no-cache\">\\r\\n    <title></title>\\r\\n</head>\\r\\n\\r\\n<body>\\r\\n<div id=\"content\" class=\"container\">\\r\\n    <h1></h1>\\r\\n    <p></p>\\r\\n    <div class=\"response\">\\r\\n        <p></p>\\r\\n        <p></p>\\r\\n        <p></p>\\r\\n    </div>\\r\\n</div>\\r\\n</body>\\r\\n</html>\\r\\n'\n",
      "[3, 5, 6] b'<!DOCTYPE html>\\r\\n\\r\\n<html lang=\"en\">\\r\\n<head>\\r\\n    <meta charset=\"utf-8\">\\r\\n    <meta http-equiv=\"X-UA-Compatible\" content=\"IE=edge\">\\r\\n    <meta name=\"viewport\" content=\"width=device-width, initial-scale=.85\">\\r\\n    <meta http-equiv=\"pragma\" content=\"no-cache\">\\r\\n    <title></title>\\r\\n</head>\\r\\n\\r\\n<body>\\r\\n<div id=\"content\" class=\"container\">\\r\\n    <h1></h1>\\r\\n    <p></p>\\r\\n    <div class=\"response\">\\r\\n        <p></p>\\r\\n        <p></p>\\r\\n        <p></p>\\r\\n    </div>\\r\\n</div>\\r\\n</body>\\r\\n</html>\\r\\n'\n",
      "[3, 5] b'<!DOCTYPE html>\\r\\n\\r\\n<html lang=\"en\">\\r\\n<head>\\r\\n    <meta charset=\"utf-8\">\\r\\n    <meta http-equiv=\"X-UA-Compatible\" content=\"IE=edge\">\\r\\n    <meta name=\"viewport\" content=\"width=device-width, initial-scale=.85\">\\r\\n    <meta http-equiv=\"pragma\" content=\"no-cache\">\\r\\n    <title></title>\\r\\n</head>\\r\\n\\r\\n<body>\\r\\n<div id=\"content\" class=\"container\">\\r\\n    <h1></h1>\\r\\n    <p></p>\\r\\n    <div class=\"response\">\\r\\n        <p></p>\\r\\n        <p></p>\\r\\n        <p></p>\\r\\n    </div>\\r\\n</div>\\r\\n</body>\\r\\n</html>\\r\\n'\n",
      "[3, 6] b'<!DOCTYPE html>\\r\\n\\r\\n<html lang=\"en\">\\r\\n<head>\\r\\n    <meta charset=\"utf-8\">\\r\\n    <meta http-equiv=\"X-UA-Compatible\" content=\"IE=edge\">\\r\\n    <meta name=\"viewport\" content=\"width=device-width, initial-scale=.85\">\\r\\n    <meta http-equiv=\"pragma\" content=\"no-cache\">\\r\\n    <title></title>\\r\\n</head>\\r\\n\\r\\n<body>\\r\\n<div id=\"content\" class=\"container\">\\r\\n    <h1></h1>\\r\\n    <p></p>\\r\\n    <div class=\"response\">\\r\\n        <p></p>\\r\\n        <p></p>\\r\\n        <p></p>\\r\\n    </div>\\r\\n</div>\\r\\n</body>\\r\\n</html>\\r\\n'\n",
      "[3] b'<!DOCTYPE html>\\r\\n\\r\\n<html lang=\"en\">\\r\\n<head>\\r\\n    <meta charset=\"utf-8\">\\r\\n    <meta http-equiv=\"X-UA-Compatible\" content=\"IE=edge\">\\r\\n    <meta name=\"viewport\" content=\"width=device-width, initial-scale=.85\">\\r\\n    <meta http-equiv=\"pragma\" content=\"no-cache\">\\r\\n    <title></title>\\r\\n</head>\\r\\n\\r\\n<body>\\r\\n<div id=\"content\" class=\"container\">\\r\\n    <h1></h1>\\r\\n    <p></p>\\r\\n    <div class=\"response\">\\r\\n        <p></p>\\r\\n        <p></p>\\r\\n        <p></p>\\r\\n    </div>\\r\\n</div>\\r\\n</body>\\r\\n</html>\\r\\n'\n",
      "[4, 5, 6] b'<!DOCTYPE html>\\r\\n\\r\\n<html lang=\"en\">\\r\\n<head>\\r\\n    <meta charset=\"utf-8\">\\r\\n    <meta http-equiv=\"X-UA-Compatible\" content=\"IE=edge\">\\r\\n    <meta name=\"viewport\" content=\"width=device-width, initial-scale=.85\">\\r\\n    <meta http-equiv=\"pragma\" content=\"no-cache\">\\r\\n    <title></title>\\r\\n</head>\\r\\n\\r\\n<body>\\r\\n<div id=\"content\" class=\"container\">\\r\\n    <h1></h1>\\r\\n    <p></p>\\r\\n    <div class=\"response\">\\r\\n        <p></p>\\r\\n        <p></p>\\r\\n        <p></p>\\r\\n    </div>\\r\\n</div>\\r\\n</body>\\r\\n</html>\\r\\n'\n",
      "[4, 5] b'<!DOCTYPE html>\\r\\n\\r\\n<html lang=\"en\">\\r\\n<head>\\r\\n    <meta charset=\"utf-8\">\\r\\n    <meta http-equiv=\"X-UA-Compatible\" content=\"IE=edge\">\\r\\n    <meta name=\"viewport\" content=\"width=device-width, initial-scale=.85\">\\r\\n    <meta http-equiv=\"pragma\" content=\"no-cache\">\\r\\n    <title></title>\\r\\n</head>\\r\\n\\r\\n<body>\\r\\n<div id=\"content\" class=\"container\">\\r\\n    <h1></h1>\\r\\n    <p></p>\\r\\n    <div class=\"response\">\\r\\n        <p></p>\\r\\n        <p></p>\\r\\n        <p></p>\\r\\n    </div>\\r\\n</div>\\r\\n</body>\\r\\n</html>\\r\\n'\n",
      "[4, 6] b'<!DOCTYPE html>\\r\\n\\r\\n<html lang=\"en\">\\r\\n<head>\\r\\n    <meta charset=\"utf-8\">\\r\\n    <meta http-equiv=\"X-UA-Compatible\" content=\"IE=edge\">\\r\\n    <meta name=\"viewport\" content=\"width=device-width, initial-scale=.85\">\\r\\n    <meta http-equiv=\"pragma\" content=\"no-cache\">\\r\\n    <title></title>\\r\\n</head>\\r\\n\\r\\n<body>\\r\\n<div id=\"content\" class=\"container\">\\r\\n    <h1></h1>\\r\\n    <p></p>\\r\\n    <div class=\"response\">\\r\\n        <p></p>\\r\\n        <p></p>\\r\\n        <p></p>\\r\\n    </div>\\r\\n</div>\\r\\n</body>\\r\\n</html>\\r\\n'\n",
      "[4] b'<!DOCTYPE html>\\r\\n\\r\\n<html lang=\"en\">\\r\\n<head>\\r\\n    <meta charset=\"utf-8\">\\r\\n    <meta http-equiv=\"X-UA-Compatible\" content=\"IE=edge\">\\r\\n    <meta name=\"viewport\" content=\"width=device-width, initial-scale=.85\">\\r\\n    <meta http-equiv=\"pragma\" content=\"no-cache\">\\r\\n    <title></title>\\r\\n</head>\\r\\n\\r\\n<body>\\r\\n<div id=\"content\" class=\"container\">\\r\\n    <h1></h1>\\r\\n    <p></p>\\r\\n    <div class=\"response\">\\r\\n        <p></p>\\r\\n        <p></p>\\r\\n        <p></p>\\r\\n    </div>\\r\\n</div>\\r\\n</body>\\r\\n</html>\\r\\n'\n",
      "[5, 6] b'<!DOCTYPE html>\\r\\n\\r\\n<html lang=\"en\">\\r\\n<head>\\r\\n    <meta charset=\"utf-8\">\\r\\n    <meta http-equiv=\"X-UA-Compatible\" content=\"IE=edge\">\\r\\n    <meta name=\"viewport\" content=\"width=device-width, initial-scale=.85\">\\r\\n    <meta http-equiv=\"pragma\" content=\"no-cache\">\\r\\n    <title></title>\\r\\n</head>\\r\\n\\r\\n<body>\\r\\n<div id=\"content\" class=\"container\">\\r\\n    <h1></h1>\\r\\n    <p></p>\\r\\n    <div class=\"response\">\\r\\n        <p></p>\\r\\n        <p></p>\\r\\n        <p></p>\\r\\n    </div>\\r\\n</div>\\r\\n</body>\\r\\n</html>\\r\\n'\n",
      "[5] b'<!DOCTYPE html>\\r\\n\\r\\n<html lang=\"en\">\\r\\n<head>\\r\\n    <meta charset=\"utf-8\">\\r\\n    <meta http-equiv=\"X-UA-Compatible\" content=\"IE=edge\">\\r\\n    <meta name=\"viewport\" content=\"width=device-width, initial-scale=.85\">\\r\\n    <meta http-equiv=\"pragma\" content=\"no-cache\">\\r\\n    <title></title>\\r\\n</head>\\r\\n\\r\\n<body>\\r\\n<div id=\"content\" class=\"container\">\\r\\n    <h1></h1>\\r\\n    <p></p>\\r\\n    <div class=\"response\">\\r\\n        <p></p>\\r\\n        <p></p>\\r\\n        <p></p>\\r\\n    </div>\\r\\n</div>\\r\\n</body>\\r\\n</html>\\r\\n'\n",
      "[6] b'<!DOCTYPE html>\\r\\n\\r\\n<html lang=\"en\">\\r\\n<head>\\r\\n    <meta charset=\"utf-8\">\\r\\n    <meta http-equiv=\"X-UA-Compatible\" content=\"IE=edge\">\\r\\n    <meta name=\"viewport\" content=\"width=device-width, initial-scale=.85\">\\r\\n    <meta http-equiv=\"pragma\" content=\"no-cache\">\\r\\n    <title></title>\\r\\n</head>\\r\\n\\r\\n<body>\\r\\n<div id=\"content\" class=\"container\">\\r\\n    <h1></h1>\\r\\n    <p></p>\\r\\n    <div class=\"response\">\\r\\n        <p></p>\\r\\n        <p></p>\\r\\n        <p></p>\\r\\n    </div>\\r\\n</div>\\r\\n</body>\\r\\n</html>\\r\\n'\n",
      "[] b'<!DOCTYPE html>\\r\\n\\r\\n<html lang=\"en\">\\r\\n<head>\\r\\n    <meta charset=\"utf-8\">\\r\\n    <meta http-equiv=\"X-UA-Compatible\" content=\"IE=edge\">\\r\\n    <meta name=\"viewport\" content=\"width=device-width, initial-scale=.85\">\\r\\n    <meta http-equiv=\"pragma\" content=\"no-cache\">\\r\\n    <title></title>\\r\\n</head>\\r\\n\\r\\n<body>\\r\\n<div id=\"content\" class=\"container\">\\r\\n    <h1></h1>\\r\\n    <p></p>\\r\\n    <div class=\"response\">\\r\\n        <p></p>\\r\\n        <p></p>\\r\\n        <p></p>\\r\\n    </div>\\r\\n</div>\\r\\n</body>\\r\\n</html>\\r\\n'\n",
      "64\n"
     ]
    }
   ],
   "source": [
    "recur(1, [])\n",
    "print(cou)"
   ]
  },
  {
   "cell_type": "code",
   "execution_count": 29,
   "metadata": {
    "id": "i2OcdxrYI25V"
   },
   "outputs": [],
   "source": [
    "r = requests.post(f'{url}/update_state',\n",
    "                  json={\"times\":1, \"arms\":[1,2,3,4,5]},\n",
    "                  headers= {\"Authorization\": your_token})"
   ]
  },
  {
   "cell_type": "code",
   "execution_count": 31,
   "metadata": {
    "colab": {
     "base_uri": "https://localhost:8080/"
    },
    "id": "ghK1CI4JjvXe",
    "outputId": "7d7ad5b6-7297-4bfc-883a-97e8768a3946"
   },
   "outputs": [
    {
     "data": {
      "text/plain": [
       "503"
      ]
     },
     "execution_count": 31,
     "metadata": {},
     "output_type": "execute_result"
    }
   ],
   "source": [
    "r.content\n",
    "r.status_code"
   ]
  },
  {
   "cell_type": "code",
   "execution_count": null,
   "metadata": {
    "colab": {
     "base_uri": "https://localhost:8080/"
    },
    "id": "NmZk4myAI25V",
    "outputId": "5e29fa8d-a7ac-4394-f07f-ea95cd452dca"
   },
   "outputs": [
    {
     "data": {
      "text/plain": [
       "{'limit_reach': False,\n",
       " 'request_reward': [0, 0, 0, 1, 0, 0, 0, 1, 0, 1],\n",
       " 'status': 200}"
      ]
     },
     "execution_count": 20,
     "metadata": {},
     "output_type": "execute_result"
    }
   ],
   "source": [
    "json.loads(r.content)"
   ]
  },
  {
   "cell_type": "markdown",
   "metadata": {
    "id": "fFfpmPRHEGJB"
   },
   "source": [
    "**Response** \\\n",
    "You will receive JSON object in response content. \\\n",
    "\\\n",
    "In JSON,\n",
    "\n",
    "*   limit_reach: True if your account reach 1000 times of pulling, False otherwise.\n",
    "*   request_reward: list of reward according to your request. The $i^{th}$ element indicates the reward of $i^{th}$ pull. The size of this list is equal to the variable `times`.\n"
   ]
  },
  {
   "cell_type": "markdown",
   "metadata": {
    "id": "g8NcrLVqC7tB"
   },
   "source": [
    "#Get the state of your account"
   ]
  },
  {
   "cell_type": "markdown",
   "metadata": {
    "id": "FEn_yM9HFsDd"
   },
   "source": [
    "In case that you forget to memorize the historical rewards, you can use our API to access to all of the rewards you have made.\n",
    "\n",
    "Send **GET** request to http://183.90.168.139:5001/get_state. \\\n",
    "\n",
    "**!! Don't forget to pass your token as string in headers of request !!**"
   ]
  },
  {
   "cell_type": "code",
   "execution_count": 22,
   "metadata": {
    "id": "HLoWMu6oiMCQ"
   },
   "outputs": [],
   "source": [
    "r = requests.get(f'{url}/get_state',\n",
    "                  headers= {\"Authorization\": your_token})"
   ]
  },
  {
   "cell_type": "code",
   "execution_count": 24,
   "metadata": {
    "colab": {
     "base_uri": "https://localhost:8080/"
    },
    "id": "f_gM0s53OLDi",
    "outputId": "05867075-2710-4e48-98ad-570c3e6d97d0"
   },
   "outputs": [
    {
     "ename": "JSONDecodeError",
     "evalue": "Expecting value: line 1 column 1 (char 0)",
     "output_type": "error",
     "traceback": [
      "\u001b[0;31m---------------------------------------------------------------------------\u001b[0m",
      "\u001b[0;31mJSONDecodeError\u001b[0m                           Traceback (most recent call last)",
      "Cell \u001b[0;32mIn[24], line 1\u001b[0m\n\u001b[0;32m----> 1\u001b[0m \u001b[43mjson\u001b[49m\u001b[38;5;241;43m.\u001b[39;49m\u001b[43mloads\u001b[49m\u001b[43m(\u001b[49m\u001b[43mr\u001b[49m\u001b[38;5;241;43m.\u001b[39;49m\u001b[43mcontent\u001b[49m\u001b[43m)\u001b[49m\n",
      "File \u001b[0;32m/Library/Frameworks/Python.framework/Versions/3.12/lib/python3.12/json/__init__.py:346\u001b[0m, in \u001b[0;36mloads\u001b[0;34m(s, cls, object_hook, parse_float, parse_int, parse_constant, object_pairs_hook, **kw)\u001b[0m\n\u001b[1;32m    341\u001b[0m     s \u001b[38;5;241m=\u001b[39m s\u001b[38;5;241m.\u001b[39mdecode(detect_encoding(s), \u001b[38;5;124m'\u001b[39m\u001b[38;5;124msurrogatepass\u001b[39m\u001b[38;5;124m'\u001b[39m)\n\u001b[1;32m    343\u001b[0m \u001b[38;5;28;01mif\u001b[39;00m (\u001b[38;5;28mcls\u001b[39m \u001b[38;5;129;01mis\u001b[39;00m \u001b[38;5;28;01mNone\u001b[39;00m \u001b[38;5;129;01mand\u001b[39;00m object_hook \u001b[38;5;129;01mis\u001b[39;00m \u001b[38;5;28;01mNone\u001b[39;00m \u001b[38;5;129;01mand\u001b[39;00m\n\u001b[1;32m    344\u001b[0m         parse_int \u001b[38;5;129;01mis\u001b[39;00m \u001b[38;5;28;01mNone\u001b[39;00m \u001b[38;5;129;01mand\u001b[39;00m parse_float \u001b[38;5;129;01mis\u001b[39;00m \u001b[38;5;28;01mNone\u001b[39;00m \u001b[38;5;129;01mand\u001b[39;00m\n\u001b[1;32m    345\u001b[0m         parse_constant \u001b[38;5;129;01mis\u001b[39;00m \u001b[38;5;28;01mNone\u001b[39;00m \u001b[38;5;129;01mand\u001b[39;00m object_pairs_hook \u001b[38;5;129;01mis\u001b[39;00m \u001b[38;5;28;01mNone\u001b[39;00m \u001b[38;5;129;01mand\u001b[39;00m \u001b[38;5;129;01mnot\u001b[39;00m kw):\n\u001b[0;32m--> 346\u001b[0m     \u001b[38;5;28;01mreturn\u001b[39;00m \u001b[43m_default_decoder\u001b[49m\u001b[38;5;241;43m.\u001b[39;49m\u001b[43mdecode\u001b[49m\u001b[43m(\u001b[49m\u001b[43ms\u001b[49m\u001b[43m)\u001b[49m\n\u001b[1;32m    347\u001b[0m \u001b[38;5;28;01mif\u001b[39;00m \u001b[38;5;28mcls\u001b[39m \u001b[38;5;129;01mis\u001b[39;00m \u001b[38;5;28;01mNone\u001b[39;00m:\n\u001b[1;32m    348\u001b[0m     \u001b[38;5;28mcls\u001b[39m \u001b[38;5;241m=\u001b[39m JSONDecoder\n",
      "File \u001b[0;32m/Library/Frameworks/Python.framework/Versions/3.12/lib/python3.12/json/decoder.py:337\u001b[0m, in \u001b[0;36mJSONDecoder.decode\u001b[0;34m(self, s, _w)\u001b[0m\n\u001b[1;32m    332\u001b[0m \u001b[38;5;28;01mdef\u001b[39;00m \u001b[38;5;21mdecode\u001b[39m(\u001b[38;5;28mself\u001b[39m, s, _w\u001b[38;5;241m=\u001b[39mWHITESPACE\u001b[38;5;241m.\u001b[39mmatch):\n\u001b[1;32m    333\u001b[0m \u001b[38;5;250m    \u001b[39m\u001b[38;5;124;03m\"\"\"Return the Python representation of ``s`` (a ``str`` instance\u001b[39;00m\n\u001b[1;32m    334\u001b[0m \u001b[38;5;124;03m    containing a JSON document).\u001b[39;00m\n\u001b[1;32m    335\u001b[0m \n\u001b[1;32m    336\u001b[0m \u001b[38;5;124;03m    \"\"\"\u001b[39;00m\n\u001b[0;32m--> 337\u001b[0m     obj, end \u001b[38;5;241m=\u001b[39m \u001b[38;5;28;43mself\u001b[39;49m\u001b[38;5;241;43m.\u001b[39;49m\u001b[43mraw_decode\u001b[49m\u001b[43m(\u001b[49m\u001b[43ms\u001b[49m\u001b[43m,\u001b[49m\u001b[43m \u001b[49m\u001b[43midx\u001b[49m\u001b[38;5;241;43m=\u001b[39;49m\u001b[43m_w\u001b[49m\u001b[43m(\u001b[49m\u001b[43ms\u001b[49m\u001b[43m,\u001b[49m\u001b[43m \u001b[49m\u001b[38;5;241;43m0\u001b[39;49m\u001b[43m)\u001b[49m\u001b[38;5;241;43m.\u001b[39;49m\u001b[43mend\u001b[49m\u001b[43m(\u001b[49m\u001b[43m)\u001b[49m\u001b[43m)\u001b[49m\n\u001b[1;32m    338\u001b[0m     end \u001b[38;5;241m=\u001b[39m _w(s, end)\u001b[38;5;241m.\u001b[39mend()\n\u001b[1;32m    339\u001b[0m     \u001b[38;5;28;01mif\u001b[39;00m end \u001b[38;5;241m!=\u001b[39m \u001b[38;5;28mlen\u001b[39m(s):\n",
      "File \u001b[0;32m/Library/Frameworks/Python.framework/Versions/3.12/lib/python3.12/json/decoder.py:355\u001b[0m, in \u001b[0;36mJSONDecoder.raw_decode\u001b[0;34m(self, s, idx)\u001b[0m\n\u001b[1;32m    353\u001b[0m     obj, end \u001b[38;5;241m=\u001b[39m \u001b[38;5;28mself\u001b[39m\u001b[38;5;241m.\u001b[39mscan_once(s, idx)\n\u001b[1;32m    354\u001b[0m \u001b[38;5;28;01mexcept\u001b[39;00m \u001b[38;5;167;01mStopIteration\u001b[39;00m \u001b[38;5;28;01mas\u001b[39;00m err:\n\u001b[0;32m--> 355\u001b[0m     \u001b[38;5;28;01mraise\u001b[39;00m JSONDecodeError(\u001b[38;5;124m\"\u001b[39m\u001b[38;5;124mExpecting value\u001b[39m\u001b[38;5;124m\"\u001b[39m, s, err\u001b[38;5;241m.\u001b[39mvalue) \u001b[38;5;28;01mfrom\u001b[39;00m \u001b[38;5;28;01mNone\u001b[39;00m\n\u001b[1;32m    356\u001b[0m \u001b[38;5;28;01mreturn\u001b[39;00m obj, end\n",
      "\u001b[0;31mJSONDecodeError\u001b[0m: Expecting value: line 1 column 1 (char 0)"
     ]
    }
   ],
   "source": [
    "json.loads(r.content)"
   ]
  },
  {
   "cell_type": "markdown",
   "metadata": {
    "id": "XMcxbz9uF8OG"
   },
   "source": [
    "**Response** \\\n",
    "You will receive JSON object in response content. \\\n",
    "\\\n",
    "In JSON, your account state is inside state attribute\n",
    "\n",
    "*   count: number of pulls that you already used.\n",
    "*   cumulative_reward: summation of received reward from the first request upto the last one.\n",
    "*   reward_list: full history of received reward. The $i^{th}$ element indicates the reward of $i^{th}$ pull. This is an extend version of `request_reward` you received from using update API."
   ]
  },
  {
   "cell_type": "markdown",
   "metadata": {
    "id": "UftkHA69rJNr"
   },
   "source": [
    "# Beware of the limit\n",
    "After you reach the number of allowed requests, the API will not return any additional rewards."
   ]
  },
  {
   "cell_type": "code",
   "execution_count": null,
   "metadata": {
    "id": "T3Zy_D8Fpty9"
   },
   "outputs": [],
   "source": [
    "r = requests.post(f'{url}/update_state',\n",
    "                  json={\"times\":10, \"arms\":[1,2,3,4,5]},\n",
    "                  headers= {\"Authorization\": your_token})"
   ]
  },
  {
   "cell_type": "code",
   "execution_count": null,
   "metadata": {
    "colab": {
     "base_uri": "https://localhost:8080/"
    },
    "id": "L1Susd2gptzK",
    "outputId": "168b6514-6437-4ac4-bccd-133368f6dd7e"
   },
   "outputs": [
    {
     "data": {
      "text/plain": [
       "{'limit_reach': False,\n",
       " 'request_reward': [0, 1, 0, 0, 0, 0, 0, 0, 0, 0],\n",
       " 'status': 200}"
      ]
     },
     "execution_count": 11,
     "metadata": {},
     "output_type": "execute_result"
    }
   ],
   "source": [
    "json.loads(r.content)"
   ]
  },
  {
   "cell_type": "markdown",
   "metadata": {
    "id": "Rl63ymHEr-js"
   },
   "source": [
    "However, you can still get your **whole** historialcal rewards from `get_state` API.\n",
    "\n",
    "Your token can pull the bandit's arm for exactly `1000` times."
   ]
  },
  {
   "cell_type": "code",
   "execution_count": null,
   "metadata": {
    "id": "JhfuLuxOp0Zp"
   },
   "outputs": [],
   "source": [
    "r = requests.get(f'{url}/get_state',\n",
    "                  headers= {\"Authorization\": your_token})"
   ]
  },
  {
   "cell_type": "code",
   "execution_count": null,
   "metadata": {
    "colab": {
     "base_uri": "https://localhost:8080/"
    },
    "id": "YUjskC24p0Zp",
    "outputId": "3f4f0dd5-3961-4f4c-9fa1-be6abad92585"
   },
   "outputs": [
    {
     "data": {
      "text/plain": [
       "{'state': {'count': 20,\n",
       "  'cumulative_reward': 5,\n",
       "  'reward_list': [1, 0, 0, 1, 0, 1, 1, 0, 0, 0, 0, 1, 0, 0, 0, 0, 0, 0, 0, 0]},\n",
       " 'status': 200}"
      ]
     },
     "execution_count": 13,
     "metadata": {},
     "output_type": "execute_result"
    }
   ],
   "source": [
    "json.loads(r.content)"
   ]
  },
  {
   "cell_type": "code",
   "execution_count": null,
   "metadata": {
    "id": "rCTSzDQ-p1r3"
   },
   "outputs": [],
   "source": []
  }
 ],
 "metadata": {
  "colab": {
   "provenance": []
  },
  "kernelspec": {
   "display_name": ".venv",
   "language": "python",
   "name": "python3"
  },
  "language_info": {
   "codemirror_mode": {
    "name": "ipython",
    "version": 3
   },
   "file_extension": ".py",
   "mimetype": "text/x-python",
   "name": "python",
   "nbconvert_exporter": "python",
   "pygments_lexer": "ipython3",
   "version": "3.12.5"
  }
 },
 "nbformat": 4,
 "nbformat_minor": 0
}
