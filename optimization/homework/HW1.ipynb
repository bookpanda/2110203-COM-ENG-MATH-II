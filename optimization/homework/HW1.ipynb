{
  "cells": [
    {
      "cell_type": "markdown",
      "metadata": {
        "id": "3wKhYNWWJh1t"
      },
      "source": [
        "# **<< Only problem 3.1 will be graded. >>**"
      ]
    },
    {
      "cell_type": "markdown",
      "metadata": {
        "id": "FQ4eyeWTjB5N"
      },
      "source": [
        "## Linear optimization example\n",
        "\n",
        "Ex. A small startup hardware company is selling smart gadgets. This company has two main products which are smartwatches, and smart TVs sold for 1,200 and 5,000 THB, respectively. The company decides that they will buy a 3D printer to manufacture their products instead of using Chinese factories. After some testing, a printer could produce a maximum of 50 watches or 10 TVs per day. Due to the issues with logistics a total 55 items could be produced per day. For the maintenance issue, at least 3 TVs have to be produced per day. Assuming that the demand for both items is unlimited, the company asks you how many watches and TVs should they produce per single printer to maximize revenue."
      ]
    },
    {
      "cell_type": "markdown",
      "metadata": {
        "id": "k0DJ5-3ly5oM"
      },
      "source": [
        "To solve this problem, first, we have to formulate this problem as a mathematical program.\n",
        "\n",
        "To model the program we should :\n",
        "\n",
        "1. Identifying the decision variable.\n",
        "2. Identifying the objective.\n",
        "3. Identifying the constraints.\n",
        "\n",
        "A mathematical program for this example is :\n",
        "\n",
        "####Decision variable\n",
        "\n",
        "$x_1$ : The amount of smartwatches produced per day </br> $x_2$ : The amount of TVs produced per day\n",
        "\n",
        "$$Objective : max( 1200x_1 + 5000x_2) $$\n",
        "\\begin{equation*}\n",
        "s.t.\n",
        "\\begin{split}\n",
        "  \\frac{1}{50}x_1 + \\frac{1}{10}x_2 & \\leq 1 \\\\\n",
        "  x_1 + x_2 & \\leq 55 \\\\\n",
        "  x_2 & \\geq 3 \\\\\n",
        "  x_1, x_2 & \\geq 0 \\\\\n",
        "\\end{split}\n",
        "\\end{equation*}\n",
        "\n",
        "After the linear program is modeled, we then convert the program into a  standard form.\n",
        "\n",
        "$$Objective : min( - 1200x_1 - 5000x_2) )$$\n",
        "\\begin{equation*}\n",
        "s.t.\n",
        "\\begin{split}\n",
        "  \\frac{1}{50}x_1 + \\frac{1}{10}x_2 + x_3 & = 1 \\\\\n",
        "  x_1 + x_2 + x_4 & = 55 \\\\\n",
        "  x_2 -x_5 & =  3 \\\\\n",
        "  x_1, x_2, x_3, x_4, x_5 & \\geq 0 \\\\\n",
        "\\end{split}\n",
        "\\end{equation*}\n",
        "\n",
        "\n",
        "After the problem is converted into a standard form, we then convert it into a matrix form.\n",
        "\n",
        "\\begin{split}\n",
        "  min \\;\\;\\;  \\mathbf{c}^T \\mathbf{x} \\\\\n",
        "  s.t. \\; \\mathbf{A}\\mathbf{x} = \\mathbf{b} \\\\\n",
        "  \\mathbf{x} \\geq 0\n",
        "\\end{split}\n",
        "\n",
        "$$\n",
        "where \\;\\;\n",
        "\\begin{align}\n",
        "  \\mathbf{c} &= \\begin{bmatrix}\n",
        "          -1200 \\\\\n",
        "          -5000 \\\\\n",
        "          0 \\\\\n",
        "          0 \\\\\n",
        "          0 \\\\\n",
        "        \\end{bmatrix},\n",
        "        \\mathbf{A} = \\begin{bmatrix}\n",
        "          \\frac{1}{50} & \\frac{1}{10} & 1 & 0 & 0 \\\\\n",
        "          1 & 1 & 0 & 1 & 0 \\\\\n",
        "          0 & 1 & 0 & 0 & -1  \\\\\n",
        "        \\end{bmatrix},\n",
        "        \\mathbf{x} = \\begin{bmatrix}\n",
        "          x_{1} \\\\\n",
        "          x_{2} \\\\\n",
        "          x_{3} \\\\\n",
        "          x_{4} \\\\\n",
        "          x_{5} \\\\\n",
        "        \\end{bmatrix},\n",
        "         \\mathbf{b} = \\begin{bmatrix}\n",
        "          1 \\\\\n",
        "          55 \\\\\n",
        "          3\n",
        "        \\end{bmatrix}\n",
        "\\end{align}\n",
        "$$\n",
        "\n",
        "After the matrix from is obtained, we then feed the matrixs into a linear optimization library to solve for an optimal solution and optimal value."
      ]
    },
    {
      "cell_type": "markdown",
      "metadata": {
        "id": "B65ynPWxgjkL"
      },
      "source": [
        "## Import library\n",
        "\n"
      ]
    },
    {
      "cell_type": "code",
      "execution_count": 2,
      "metadata": {
        "id": "gVetW3jLa5hJ"
      },
      "outputs": [],
      "source": [
        "from scipy.optimize import linprog\n",
        "import numpy as np"
      ]
    },
    {
      "cell_type": "markdown",
      "metadata": {
        "id": "p2gfG6owe8eu"
      },
      "source": [
        "## Creating a matrix form of the problem\n",
        "\n",
        "\n"
      ]
    },
    {
      "cell_type": "code",
      "execution_count": 3,
      "metadata": {
        "id": "LSc2Zo7YbAGf"
      },
      "outputs": [],
      "source": [
        "c_T = np.array([-1200, -5000, 0, 0, 0])\n",
        "A = np.array(\n",
        "    [\n",
        "     [1/50     , 1/10   , 1,  0,  0],\n",
        "     [1          , 1        , 0, 1,  0],\n",
        "     [0          , 1        , 0, 0, -1],\n",
        "    ]\n",
        ")\n",
        "bound = [[0, None], [0, None], [0, None], [0, None], [0, None]] # bound for each variables (0, inf)\n",
        "b = [1, 55, 3]"
      ]
    },
    {
      "cell_type": "markdown",
      "metadata": {
        "id": "f08rFmcEfPiE"
      },
      "source": [
        "## Solving the optimization problem\n",
        "It was found that x = [35, 3, 0, 17, 0], which means that we should produce 35 watches and 3 TVs per day."
      ]
    },
    {
      "cell_type": "code",
      "execution_count": 4,
      "metadata": {
        "colab": {
          "base_uri": "https://localhost:8080/"
        },
        "id": "7QBjKLGScmlT",
        "outputId": "75043ea0-4e04-4c68-af41-d763e71c1981"
      },
      "outputs": [
        {
          "name": "stdout",
          "output_type": "stream",
          "text": [
            " message: Optimization terminated successfully.\n",
            " success: True\n",
            "  status: 0\n",
            "     fun: -57000.0\n",
            "       x: [ 3.500e+01  3.000e+00  0.000e+00  1.700e+01  0.000e+00]\n",
            "     nit: 4\n",
            "\n",
            " optimal value is -57000.0 \n",
            " optimal soultion is [35.  3.  0. 17.  0.]\n"
          ]
        },
        {
          "name": "stderr",
          "output_type": "stream",
          "text": [
            "/var/folders/27/0_8pjdb52g91gmnzbtgblvgc0000gn/T/ipykernel_20394/333211611.py:1: DeprecationWarning: `method='simplex'` is deprecated and will be removed in SciPy 1.11.0. Please use one of the HiGHS solvers (e.g. `method='highs'`) in new code.\n",
            "  result = linprog(c = c_T, A_eq = A, b_eq=b, bounds=bound, method='simplex')\n"
          ]
        }
      ],
      "source": [
        "result = linprog(c = c_T, A_eq = A, b_eq=b, bounds=bound, method='simplex')\n",
        "print(\"{}\\n\\n optimal value is {} \\n optimal soultion is {}\".format(result,result.fun, result.x)) # actual optimal value is 57000"
      ]
    },
    {
      "cell_type": "markdown",
      "metadata": {
        "id": "Ipg-evgdfeoU"
      },
      "source": [
        "## Example of wrong matrix formation\n",
        "\n",
        "Instead of producing at least 3 TVs, we mistype and produce at least 15 TVs instead. Thus, a feasible solution could not be found.\n"
      ]
    },
    {
      "cell_type": "code",
      "execution_count": 5,
      "metadata": {
        "colab": {
          "base_uri": "https://localhost:8080/"
        },
        "id": "wV4ylDNfdngj",
        "outputId": "9497a04f-abb7-4484-a79f-99bfb694b116"
      },
      "outputs": [
        {
          "name": "stdout",
          "output_type": "stream",
          "text": [
            " message: Phase 1 of the simplex method failed to find a feasible solution. The pseudo-objective function evaluates to 5.0e+00 which exceeds the required tolerance of 1e-09 for a solution to be considered 'close enough' to zero to be a basic solution. Consider increasing the tolerance to be greater than 5.0e+00. If this tolerance is unacceptably  large the problem may be infeasible.\n",
            " success: False\n",
            "  status: 2\n",
            "     fun: -50000.0\n",
            "       x: [ 0.000e+00  1.000e+01  0.000e+00  4.500e+01  0.000e+00]\n",
            "     nit: 2\n"
          ]
        },
        {
          "name": "stderr",
          "output_type": "stream",
          "text": [
            "/var/folders/27/0_8pjdb52g91gmnzbtgblvgc0000gn/T/ipykernel_20394/1043972956.py:2: DeprecationWarning: `method='simplex'` is deprecated and will be removed in SciPy 1.11.0. Please use one of the HiGHS solvers (e.g. `method='highs'`) in new code.\n",
            "  result = linprog(c = c_T, A_eq = A, b_eq = new_b, bounds=bound, method='simplex')\n"
          ]
        }
      ],
      "source": [
        "new_b = [1, 55, 15]\n",
        "result = linprog(c = c_T, A_eq = A, b_eq = new_b, bounds=bound, method='simplex')\n",
        "print(result)"
      ]
    },
    {
      "cell_type": "markdown",
      "metadata": {
        "id": "RtQMcuwGh_IH"
      },
      "source": [
        "If we remove the production constraint. The solution becomes unbounded."
      ]
    },
    {
      "cell_type": "code",
      "execution_count": 6,
      "metadata": {
        "colab": {
          "base_uri": "https://localhost:8080/"
        },
        "id": "ySf-bd7Wic-B",
        "outputId": "5a83f208-6eb5-45df-b1ca-9d8e5729a883"
      },
      "outputs": [
        {
          "name": "stdout",
          "output_type": "stream",
          "text": [
            " message: If feasible, the problem is (trivially) unbounded due  to a zero column in the constraint matrices. If you wish to check whether the problem is infeasible, turn presolve off.\n",
            " success: False\n",
            "  status: 3\n",
            "     fun: -inf\n",
            "       x: [       inf  0.000e+00  0.000e+00]\n",
            "     nit: 0\n"
          ]
        },
        {
          "name": "stderr",
          "output_type": "stream",
          "text": [
            "/var/folders/27/0_8pjdb52g91gmnzbtgblvgc0000gn/T/ipykernel_20394/2950711804.py:9: DeprecationWarning: `method='simplex'` is deprecated and will be removed in SciPy 1.11.0. Please use one of the HiGHS solvers (e.g. `method='highs'`) in new code.\n",
            "  result = linprog(c = c_T, A_eq = A, b_eq = b, bounds=bound, method='simplex')\n"
          ]
        }
      ],
      "source": [
        "c_T = np.array([-1200, -5000,  0])\n",
        "A = np.array(\n",
        "    [\n",
        "     [0, 1, -1]\n",
        "    ]\n",
        ")\n",
        "bound = [[0, None], [0, None], [0, None],] # bound for each variables (0, inf)\n",
        "b = [3]\n",
        "result = linprog(c = c_T, A_eq = A, b_eq = b, bounds=bound, method='simplex')\n",
        "print(result)"
      ]
    },
    {
      "cell_type": "markdown",
      "metadata": {
        "id": "E6ThaPtEMCXO"
      },
      "source": [
        "## Tips and tricks"
      ]
    },
    {
      "cell_type": "markdown",
      "metadata": {
        "id": "MD1DvA6gMIfr"
      },
      "source": [
        "You can create an identiy matrix by using `np.eye`."
      ]
    },
    {
      "cell_type": "code",
      "execution_count": 7,
      "metadata": {
        "colab": {
          "base_uri": "https://localhost:8080/"
        },
        "id": "wEFDCLclMGXw",
        "outputId": "aeb4e806-eea1-468f-f9fa-628260477032"
      },
      "outputs": [
        {
          "name": "stdout",
          "output_type": "stream",
          "text": [
            "[[1. 0. 0. 0. 0.]\n",
            " [0. 1. 0. 0. 0.]\n",
            " [0. 0. 1. 0. 0.]\n",
            " [0. 0. 0. 1. 0.]\n",
            " [0. 0. 0. 0. 1.]]\n"
          ]
        }
      ],
      "source": [
        "x = np.eye(5)\n",
        "print(x)"
      ]
    },
    {
      "cell_type": "code",
      "execution_count": 8,
      "metadata": {
        "colab": {
          "base_uri": "https://localhost:8080/"
        },
        "id": "rANpPy59Ma9i",
        "outputId": "9e5bb1c1-9881-42fd-d4c0-63fd592d8e89"
      },
      "outputs": [
        {
          "name": "stdout",
          "output_type": "stream",
          "text": [
            "[[0. 0. 0. 0. 0. 0. 0. 0.]\n",
            " [0. 0. 0. 0. 0. 0. 0. 0.]\n",
            " [0. 0. 1. 0. 0. 0. 0. 0.]\n",
            " [0. 0. 0. 1. 0. 0. 0. 0.]\n",
            " [0. 0. 0. 0. 1. 0. 0. 0.]\n",
            " [0. 0. 0. 0. 0. 1. 0. 0.]\n",
            " [0. 0. 0. 0. 0. 0. 1. 0.]\n",
            " [0. 0. 0. 0. 0. 0. 0. 0.]]\n"
          ]
        }
      ],
      "source": [
        "y = np.zeros((8, 8))\n",
        "x = np.eye(5)\n",
        "y[2: 7, 2: 7] =x\n",
        "print(y)"
      ]
    },
    {
      "cell_type": "markdown",
      "metadata": {
        "id": "X67Yc4JdMrPL"
      },
      "source": [
        "You can also index data diaganolly."
      ]
    },
    {
      "cell_type": "code",
      "execution_count": 9,
      "metadata": {
        "colab": {
          "base_uri": "https://localhost:8080/"
        },
        "id": "bLLR9Qq_Mzk-",
        "outputId": "056abaf1-c329-48c8-9e16-553ec167509d"
      },
      "outputs": [
        {
          "name": "stdout",
          "output_type": "stream",
          "text": [
            "[[3 0 0]\n",
            " [0 2 0]\n",
            " [0 0 1]]\n"
          ]
        }
      ],
      "source": [
        "a = np.array([3, 2, 1])\n",
        "print(np.diag(a))"
      ]
    },
    {
      "cell_type": "code",
      "execution_count": 10,
      "metadata": {
        "colab": {
          "base_uri": "https://localhost:8080/"
        },
        "id": "H6_j_dCMNdTX",
        "outputId": "b7cb3b9a-6496-4569-fe35-d5ab4f1b22e0"
      },
      "outputs": [
        {
          "name": "stdout",
          "output_type": "stream",
          "text": [
            "[[0. 0. 0. 0. 0. 0.]\n",
            " [0. 0. 0. 0. 0. 0.]\n",
            " [0. 0. 3. 0. 0. 0.]\n",
            " [0. 0. 0. 2. 0. 0.]\n",
            " [0. 0. 0. 0. 1. 0.]\n",
            " [0. 0. 0. 0. 0. 0.]]\n"
          ]
        }
      ],
      "source": [
        "y = np.zeros((6, 6))\n",
        "y[2: 5, 2: 5] =np.diag(a)\n",
        "print(y)"
      ]
    },
    {
      "cell_type": "code",
      "execution_count": 11,
      "metadata": {
        "colab": {
          "base_uri": "https://localhost:8080/"
        },
        "id": "MQlkD6aQNoON",
        "outputId": "63301799-347f-4f28-ad32-d4b526f1d014"
      },
      "outputs": [
        {
          "name": "stdout",
          "output_type": "stream",
          "text": [
            "[[3. 0. 0. 0. 0. 0.]\n",
            " [0. 2. 0. 0. 0. 0.]\n",
            " [0. 0. 1. 0. 0. 0.]\n",
            " [0. 0. 0. 0. 0. 0.]\n",
            " [0. 0. 0. 0. 0. 0.]\n",
            " [0. 0. 0. 0. 0. 0.]]\n",
            "[[3. 6. 0. 0. 0. 0.]\n",
            " [0. 2. 4. 0. 0. 0.]\n",
            " [0. 0. 1. 2. 0. 0.]\n",
            " [0. 0. 0. 0. 0. 0.]\n",
            " [0. 0. 0. 0. 0. 0.]\n",
            " [0. 0. 0. 0. 0. 0.]]\n"
          ]
        }
      ],
      "source": [
        "y = np.zeros((6, 6))\n",
        "di  = np.diag_indices(len(a))\n",
        "y[di] = a\n",
        "print(y)\n",
        "y[di[0], di[1] + 1] = a* 2\n",
        "print(y)\n"
      ]
    },
    {
      "cell_type": "code",
      "execution_count": 12,
      "metadata": {
        "colab": {
          "base_uri": "https://localhost:8080/"
        },
        "id": "ivq1_l4ANM4-",
        "outputId": "8871a1a8-4632-45fc-84c8-44f9c4d116a7"
      },
      "outputs": [
        {
          "name": "stdout",
          "output_type": "stream",
          "text": [
            "[[0, None], [0, None], [0, None], [0, None], [0, None]]\n"
          ]
        }
      ],
      "source": [
        "# another useful python trick\n",
        "bound = [[0, None]] * 5\n",
        "print(bound)"
      ]
    },
    {
      "cell_type": "markdown",
      "metadata": {
        "id": "YDTE17_wSHKD"
      },
      "source": [
        "## Problem 1 : Skill Check\n",
        "\n",
        "Solve the following program :\n",
        "$$Objective : max(3x + 4y) $$\n",
        "\\begin{equation*}\n",
        "s.t.\n",
        "\\begin{split}\n",
        "  x + 2y & \\leq 7 \\\\\n",
        "  3x  - y & \\geq 0 \\\\\n",
        "  x -  y & \\leq  2 \\\\\n",
        "  x, y & \\geq 0 \\\\\n",
        "\\end{split}\n",
        "\\end{equation*}\n",
        "\n"
      ]
    },
    {
      "cell_type": "markdown",
      "metadata": {},
      "source": [
        "x + 2y + s1 = 7\n",
        "\n",
        "3x - y - e1 = 0\n",
        "\n",
        "x - y + s2 = 2\n",
        "\n",
        "min(-3x + -4y)\n"
      ]
    },
    {
      "cell_type": "code",
      "execution_count": 13,
      "metadata": {
        "id": "xsmaSo8ESHk8"
      },
      "outputs": [],
      "source": [
        "# x y s1 s2 e1\n",
        "c_T = np.array([-3, -4, 0, 0, 0])\n",
        "A = np.array(\n",
        "    [\n",
        "     [1,        2,      1,      0,      0],\n",
        "     [3,        -1,     0,      0,      -1],\n",
        "     [1,        -1,     0,      1,      0],\n",
        "    ]\n",
        ")\n",
        "bound = [[0, None], [0, None], [0, None], [0, None], [0, None]] # bound for each variables (0, inf)\n",
        "b = [7, 0, 2]"
      ]
    },
    {
      "cell_type": "code",
      "execution_count": 14,
      "metadata": {},
      "outputs": [
        {
          "name": "stdout",
          "output_type": "stream",
          "text": [
            " message: Optimization terminated successfully.\n",
            " success: True\n",
            "  status: 0\n",
            "     fun: -17.666666666666668\n",
            "       x: [ 3.667e+00  1.667e+00  0.000e+00  0.000e+00  9.333e+00]\n",
            "     nit: 4\n",
            "\n",
            " optimal value is -17.666666666666668 \n",
            " optimal solution is [3.66666667 1.66666667 0.         0.         9.33333333]\n"
          ]
        },
        {
          "name": "stderr",
          "output_type": "stream",
          "text": [
            "/var/folders/27/0_8pjdb52g91gmnzbtgblvgc0000gn/T/ipykernel_20394/951700178.py:1: DeprecationWarning: `method='simplex'` is deprecated and will be removed in SciPy 1.11.0. Please use one of the HiGHS solvers (e.g. `method='highs'`) in new code.\n",
            "  result = linprog(c = c_T, A_eq = A, b_eq=b, bounds=bound, method='simplex')\n"
          ]
        }
      ],
      "source": [
        "result = linprog(c = c_T, A_eq = A, b_eq=b, bounds=bound, method='simplex')\n",
        "print(\"{}\\n\\n optimal value is {} \\n optimal solution is {}\".format(result,result.fun, result.x))"
      ]
    },
    {
      "cell_type": "markdown",
      "metadata": {
        "id": "x4ja-gE17SP7"
      },
      "source": [
        "## Problem 1.2 :\n",
        "\n",
        "Solve problem 1 by using a graphical method and draw an isoprofit line. Does the obtained solution the same as the one we get in problem 1? You can solve this problem on your tablet/paper or use a plotting library."
      ]
    },
    {
      "cell_type": "code",
      "execution_count": 15,
      "metadata": {
        "colab": {
          "base_uri": "https://localhost:8080/",
          "height": 336
        },
        "id": "c1NFdUZy_Sgy",
        "outputId": "8e0fda37-b803-4e15-b4fc-d9eef172036f"
      },
      "outputs": [
        {
          "data": {
            "image/png": "[encoded data removed]",
            "text/plain": [
              "<Figure size 500x500 with 1 Axes>"
            ]
          },
          "metadata": {},
          "output_type": "display_data"
        }
      ],
      "source": [
        "# basic matplotlib command\n",
        "import matplotlib.pyplot as plt\n",
        "x = np.linspace(0, 1000, 100)\n",
        "# y1 = -1/2 * x + 7/2\n",
        "# y2 = 3 * x\n",
        "# y3 = x - 2\n",
        "\n",
        "def y1(x):\n",
        "    return -1/2 * x + 7/2\n",
        "\n",
        "def y2(x):\n",
        "    return 3 * x\n",
        "\n",
        "def y3(x):\n",
        "    return x - 2\n",
        "\n",
        "inter_y1_y2 = (0 - 7/2) / (-1/2 - 3)\n",
        "inter_y1_y3 = (-2 - 7/2) / (-1/2 - 1)\n",
        "inter_y2_y3 = (-2 - 0) / (3 - 1)\n",
        "\n",
        "min_y, max_y = -10000, 10000\n",
        "\n",
        "plt.figure(figsize = (5, 5))\n",
        "plt.xlim(-10, 20)\n",
        "plt.ylim(-10, 20)\n",
        "plt.title('max(3x + 4y)')\n",
        "\n",
        "plt.plot(x , y1(x), color = 'blue' , label = 'x + 2y <= 7')\n",
        "plt.fill_between(x, y1(x), min_y, color = 'blue', alpha = 0.2)\n",
        "\n",
        "plt.plot(x , y2(x), color = 'orange', label = '3x - y >= 0')\n",
        "plt.fill_between(x, y2(x), max_y, color = 'orange', alpha = 0.2)\n",
        "\n",
        "plt.plot(x , y3(x), color = 'red', label = 'x - y <= 2')\n",
        "plt.fill_between(x, y3(x), max_y, color = 'red', alpha = 0.2)\n",
        "\n",
        "plt.scatter(inter_y1_y2, y1(inter_y1_y2), s = 50, color = 'purple')\n",
        "plt.text(inter_y1_y2, y1(inter_y1_y2), f'({inter_y1_y2:.2f}, {y1(inter_y1_y2):.2f})', fontsize = 10)\n",
        "plt.scatter(inter_y1_y3, y1(inter_y1_y3), s = 50, color = 'purple')\n",
        "plt.text(inter_y1_y3, y1(inter_y1_y3), f'({inter_y1_y3:.2f}, {y1(inter_y1_y3):.2f})', fontsize = 10)\n",
        "plt.scatter(inter_y2_y3, y2(inter_y2_y3), s = 50, color = 'purple')\n",
        "plt.text(inter_y2_y3, y2(inter_y2_y3), f'({inter_y2_y3:.2f}, {y2(inter_y2_y3):.2f})', fontsize = 10)\n",
        "plt.legend()\n",
        "plt.grid(color = 'black')\n",
        "\n",
        "plt.show()"
      ]
    },
    {
      "cell_type": "markdown",
      "metadata": {
        "id": "4FOctM0pDLrs"
      },
      "source": [
        "## Problem 2 : Hamtaro factory\n",
        "\n",
        "After Hamtaro finished planting the sunflower field, he then aims to open the Hamtaro factory, selling sunflower snacks to the fellow hamsters. However, the harvested sunflower seeds have different grades, which leads to different nutrition values. Nutrition values for each grade are shown in the table below. To sell the snack at the market, the HFA (Hamster Food Administration) states that the snack they produce must contain at least 60% protein and no more than 5% fat. To minimize the ingredient cost, how should Hamtaro mix the sunflower seeds to pass the HFA approval? Formulate the problem as a linear program and solve for an optimal solution.\n",
        "\n",
        "|  sunflower seed grade | % protein| % fat |cost per g (THB) |\n",
        "|:-----------------:|:------------:|:------------:|:------------:|\n",
        "| terrible | 25 | 10 | 0.01 |\n",
        "| low | 40  | 7 | 0.3 |\n",
        "| medium | 70 | 4 | 0.7 |\n",
        "| high | 90 | 1 | 1.2  |\n",
        "\n"
      ]
    },
    {
      "cell_type": "markdown",
      "metadata": {},
      "source": [
        "objective min(0.01a + 0.3b + 0.7c + 1.2d)\n",
        "\n",
        "0.25a + 0.4b + 0.7c + 0.9d >= 0.6\n",
        "\n",
        "0.1a + 0.07b + 0.04c + 0.01d <= 0.05\n",
        "\n",
        "### Standard form\n",
        "25a + 40b + 70c + 90d - e1 = 60\n",
        "\n",
        "10a + 7b + 4c + d + s1 = 5"
      ]
    },
    {
      "cell_type": "code",
      "execution_count": 16,
      "metadata": {
        "id": "IlhdZeHwLgiy"
      },
      "outputs": [],
      "source": [
        "# a b c d s1 e1\n",
        "c_T = np.array([0.01, 0.3, 0.7, 1.2, 0, 0])\n",
        "A = np.array(\n",
        "    [\n",
        "     [25,       40,     70,     90,     0,      -1],\n",
        "     [10,       7,      4,      1,      1,      0],\n",
        "     [1,        1,      1,      1,      0,      0], \n",
        "    ]\n",
        ")\n",
        "bound = [[0, None], [0, None], [0, None], [0, None], [0, None], [0, None]] # bound for each variables (0, inf)\n",
        "b = [60, 5, 1]"
      ]
    },
    {
      "cell_type": "code",
      "execution_count": 17,
      "metadata": {},
      "outputs": [
        {
          "name": "stdout",
          "output_type": "stream",
          "text": [
            " message: Optimization terminated successfully.\n",
            " success: True\n",
            "  status: 0\n",
            "     fun: 0.5666666666666667\n",
            "       x: [ 0.000e+00  3.333e-01  6.667e-01  0.000e+00  0.000e+00\n",
            "            3.331e-15]\n",
            "     nit: 5\n",
            "\n",
            " optimal value is 0.5666666666666667 \n",
            " optimal solution is [0.00000000e+00 3.33333333e-01 6.66666667e-01 0.00000000e+00\n",
            " 0.00000000e+00 3.33066907e-15]\n"
          ]
        },
        {
          "name": "stderr",
          "output_type": "stream",
          "text": [
            "/var/folders/27/0_8pjdb52g91gmnzbtgblvgc0000gn/T/ipykernel_20394/3196910340.py:1: DeprecationWarning: `method='simplex'` is deprecated and will be removed in SciPy 1.11.0. Please use one of the HiGHS solvers (e.g. `method='highs'`) in new code.\n",
            "  result = linprog(c = c_T, A_eq = A, b_eq=b, bounds=bound, method='simplex')\n"
          ]
        }
      ],
      "source": [
        "result = linprog(c = c_T, A_eq = A, b_eq=b, bounds=bound, method='simplex')\n",
        "print(\"{}\\n\\n optimal value is {} \\n optimal solution is {}\".format(result,result.fun, result.x)) "
      ]
    },
    {
      "cell_type": "markdown",
      "metadata": {
        "id": "qSEdChfKkpcj"
      },
      "source": [
        "## Problem 3.1 : Storage server management\n",
        "\n",
        "A company is running a video analytic system. To store the analyzed videos, the company has 10 local storage servers to store the data, of which each of them could store 24 TB per server. Recently, the company finds out that the servers  they have will not be adequate in the recent future. Therefore, the company has to figure out a plan to scale up its resource. The CTO has come up with two solutions, which are buying new storage servers, and using a cloud storage service called 'SWA S3'. The cloud storage service charges 690 THB/TB per month. On the other hand, buying a new server costs 40,000 THB, but it could be used for a very long time.  After several discussions, the company has projected the amount of storage required for each month. The projected data is shown in the table below. To minimize the cost, what should the company do to store the data? Formulate the problem as a linear program and solve for an optimal solution.\n",
        "\n",
        "**Note 1 : The optimal solution does not have to be an integer.** </br>\n",
        "**Note 2 : The company could buy new servers at any month.**\n",
        "\n",
        "|  Month | 1  |  2 |  3 |  4 | 5 | 6 | 7 | 8 |\n",
        "|:-:|:-:|:-:|:-:|:-:|:-:|:-:|:-:|:-:|\n",
        "| Estimated amount of storage required (TB) | 140 | 200 | 300 | 1000 | 1400| 500 | 600 | 900 | 700 |"
      ]
    },
    {
      "cell_type": "markdown",
      "metadata": {},
      "source": [
        "a = new server </br> b = cloud storage\n",
        "\n",
        "objective: min( 690summation(1->8)bi + 40000a )\n",
        "\n",
        "240 + 24a + b1 >= 140\n",
        "\n",
        "240 + 24a + b2 >= 200\n",
        "\n",
        "240 + 24a + b3 >= 300\n",
        "\n",
        "...\n",
        "\n",
        "240 + 24a + b8 >= 900\n",
        "\n",
        "### Standard form\n",
        "24a + b1 - e1 = -100\n",
        "\n",
        "24a + b2 - e2 = -40\n",
        "\n",
        "24a + b3 - e3 = 60\n",
        "\n",
        "...\n",
        "\n",
        "24a + b8 - e8 = 660"
      ]
    },
    {
      "cell_type": "code",
      "execution_count": 23,
      "metadata": {
        "id": "8TPfk7Ep0iB4"
      },
      "outputs": [],
      "source": [
        "# a b1 b2 ... b8 e1 e2 ... e8\n",
        "c_a = np.array([40000])\n",
        "c_b = np.full(8, 690)\n",
        "c_e = np.full(8, 0)\n",
        "c_T = np.concatenate((c_a, c_b, c_e))\n",
        "\n",
        "col_a = np.full((8, 1), 24)\n",
        "cols_b = np.eye(8)\n",
        "cols_e = np.eye(8) * -1\n",
        "A = np.hstack((col_a, cols_b, cols_e))\n",
        "\n",
        "bound = [[0, None] for _ in range(17)] # bound for each variables (0, inf)\n",
        "b = [-100, -40, 60, 760, 1160, 260, 360, 660]\n"
      ]
    },
    {
      "cell_type": "code",
      "execution_count": 24,
      "metadata": {},
      "outputs": [
        {
          "name": "stdout",
          "output_type": "stream",
          "text": [
            " message: Optimization terminated successfully.\n",
            " success: True\n",
            "  status: 0\n",
            "     fun: 1514000.0\n",
            "       x: [ 2.750e+01  0.000e+00 ...  3.000e+02  0.000e+00]\n",
            "     nit: 15\n",
            "\n",
            " optimal value is 1514000.0 \n",
            " optimal solution is [ 27.5   0.    0.    0.  100.  500.    0.    0.    0.  760.  700.  600.\n",
            "   0.    0.  400.  300.    0. ]\n"
          ]
        },
        {
          "name": "stderr",
          "output_type": "stream",
          "text": [
            "/var/folders/27/0_8pjdb52g91gmnzbtgblvgc0000gn/T/ipykernel_20394/3196910340.py:1: DeprecationWarning: `method='simplex'` is deprecated and will be removed in SciPy 1.11.0. Please use one of the HiGHS solvers (e.g. `method='highs'`) in new code.\n",
            "  result = linprog(c = c_T, A_eq = A, b_eq=b, bounds=bound, method='simplex')\n"
          ]
        }
      ],
      "source": [
        "result = linprog(c = c_T, A_eq = A, b_eq=b, bounds=bound, method='simplex')\n",
        "print(\"{}\\n\\n optimal value is {} \\n optimal solution is {}\".format(result,result.fun, result.x)) "
      ]
    },
    {
      "cell_type": "markdown",
      "metadata": {
        "id": "QNBsmTGJ3LWz"
      },
      "source": [
        "## Problem 3.2\n",
        "From problem 3. Would the optimal solution change if the company has to pay 2,000 THB maintenance  fee per month for each local storage server they have?"
      ]
    },
    {
      "cell_type": "markdown",
      "metadata": {},
      "source": [
        "new objective: min( 690summation(1->8)(bi) + 40000summation(1->8)(ai) + 2000summation(1->8)((8 - i + 1) * ai) ) + 2000 * 10 * 8"
      ]
    },
    {
      "cell_type": "markdown",
      "metadata": {},
      "source": [
        "$$\n",
        "\\text{Minimize: } 690 \\sum_{i=1}^{8} b_i + 40000 \\sum_{i=1}^{8} a_i + 2000 \\sum_{i=1}^{8} (8 - i + 1) a_i + 2000 \\times 10 \\times 8\n",
        "$$"
      ]
    },
    {
      "cell_type": "markdown",
      "metadata": {},
      "source": [
        "### Standard form\n",
        "24(a1) + b1 - e1 = -100\n",
        "\n",
        "24(a1 + a2) + b2 - e2 = -40\n",
        "\n",
        "24(a1 + a2 + a3) + b3 - e3 = 60\n",
        "\n",
        "...\n",
        "\n",
        "24(a1 + ... + a8) + b8 - e8 = 660"
      ]
    },
    {
      "cell_type": "code",
      "execution_count": 32,
      "metadata": {
        "id": "5fUTxZqkfSCr"
      },
      "outputs": [],
      "source": [
        "# a1 a2 ... a8 b1 b2 ... b8 e1 e2 ... e8\n",
        "c_a = np.array([40000 + 2000 * (8 - i + 1) for i in range(1, 9)])\n",
        "c_b = np.full(8, 690)\n",
        "c_e = np.full(8, 0)\n",
        "c_T = np.concatenate((c_a, c_b, c_e))\n",
        "\n",
        "cols_a = np.zeros((8, 8), dtype=int)\n",
        "for i in range(8):\n",
        "    cols_a[i, :i+1] = 1\n",
        "\n",
        "cols_b = np.eye(8)\n",
        "cols_e = np.eye(8) * -1\n",
        "A = np.hstack((cols_a, cols_b, cols_e))\n",
        "\n",
        "bound = [[0, None] for _ in range(24)] # bound for each variables (0, inf)\n",
        "b = [-100, -40, 60, 760, 1160, 260, 360, 660]\n"
      ]
    },
    {
      "cell_type": "code",
      "execution_count": 35,
      "metadata": {},
      "outputs": [
        {
          "name": "stdout",
          "output_type": "stream",
          "text": [
            " message: Optimization terminated successfully.\n",
            " success: True\n",
            "  status: 0\n",
            "     fun: 2249400.0\n",
            "       x: [ 0.000e+00  0.000e+00 ...  0.000e+00  0.000e+00]\n",
            "     nit: 14\n",
            "\n",
            " optimal value is 2249400.0 \n",
            " optimal solution is [   0.    0.    0.    0.    0.    0.    0.    0.    0.    0.   60.  760.\n",
            " 1160.  260.  360.  660.  100.   40.    0.    0.    0.    0.    0.    0.]\n"
          ]
        },
        {
          "name": "stderr",
          "output_type": "stream",
          "text": [
            "/var/folders/27/0_8pjdb52g91gmnzbtgblvgc0000gn/T/ipykernel_20394/3196910340.py:1: DeprecationWarning: `method='simplex'` is deprecated and will be removed in SciPy 1.11.0. Please use one of the HiGHS solvers (e.g. `method='highs'`) in new code.\n",
            "  result = linprog(c = c_T, A_eq = A, b_eq=b, bounds=bound, method='simplex')\n"
          ]
        }
      ],
      "source": [
        "result = linprog(c = c_T, A_eq = A, b_eq=b, bounds=bound, method='simplex')\n",
        "print(\"{}\\n\\n optimal value is {} \\n optimal solution is {}\".format(result,result.fun, result.x)) "
      ]
    },
    {
      "cell_type": "markdown",
      "metadata": {
        "id": "kVFassDBfbG9"
      },
      "source": [
        "## Problem 4 : Task assignment\n",
        "\n",
        "A data center company has a lot of servers to be maintained. Thus, the maintainers are required 24/7. To maintain the servers, the company has employed four technicians, of which one of them is a senior. Each technician has to work at least 40 hours per week, except for the senior one, which works exactly 36 hours per week. The wage is paid hourly, and every technician has different wages and availability. The maintenance is performed with exactly one person on duty.  How should the company assign each person to be on duty to minimize the maintenance cost? Formulate the problem as a linear program and solve for an optimal solution.\n",
        "\n",
        "<table>\n",
        "  <tr>\n",
        "    <td><b>Technician</td>\n",
        "    <td><b>Wage per hour(weekday)</td>\n",
        "    <td><b>Wage per hour(weekend)</td>\n",
        "    <td colspan=\"7\"><b>Maximum hours of avaiability</td>\n",
        "  </tr>\n",
        "  <tr>\n",
        "    <td colspan=\"3\"><b></td>\n",
        "    <td><b>Mon.</td>\n",
        "    <td><b>Tue.</td>\n",
        "    <td><b>Wed.</td>\n",
        "    <td><b>Thurs.</td>\n",
        "    <td><b>Fri.</td>\n",
        "    <td><b>Sat.</td>\n",
        "    <td><b>Sun.</td>\n",
        "  </tr>\n",
        "  <tr>\n",
        "    <td >Technician A</td>\n",
        "    <td >70</td>\n",
        "    <td >80</td>\n",
        "    <td >12</td>\n",
        "    <td >10</td>\n",
        "    <td >12</td>\n",
        "    <td >0</td>\n",
        "    <td >8</td>\n",
        "    <td >8</td>\n",
        "    <td >4</td>\n",
        "  </tr>\n",
        "  <tr>\n",
        "    <td >Technician B</td>\n",
        "    <td >70</td>\n",
        "    <td >80</td>\n",
        "    <td >12</td>\n",
        "    <td >10</td>\n",
        "    <td >0</td>\n",
        "    <td >8</td>\n",
        "    <td >8</td>\n",
        "    <td >4</td>\n",
        "    <td >8</td>\n",
        "  </tr>\n",
        "  \n",
        "  <tr>\n",
        "    <td >Technician C</td>\n",
        "    <td >80</td>\n",
        "    <td >75</td>\n",
        "    <td >0</td>\n",
        "    <td >10</td>\n",
        "    <td >8</td>\n",
        "    <td >8</td>\n",
        "    <td >0</td>\n",
        "    <td >10</td>\n",
        "    <td >10</td>\n",
        "  </tr>\n",
        "  \n",
        "  <tr>\n",
        "    <td >Senior technician D</td>\n",
        "    <td >160</td>\n",
        "    <td >200</td>\n",
        "    <td >24</td>\n",
        "    <td >0</td>\n",
        "    <td >24</td>\n",
        "    <td >24</td>\n",
        "    <td >24</td>\n",
        "    <td >24</td>\n",
        "    <td >24</td>\n",
        "  </tr>\n",
        "  \n",
        "\n",
        "\n",
        "</table>\n"
      ]
    },
    {
      "cell_type": "markdown",
      "metadata": {},
      "source": [
        "See goodnotes pdf submission for explanation"
      ]
    },
    {
      "cell_type": "code",
      "execution_count": null,
      "metadata": {
        "id": "zzdfeD1mTox-"
      },
      "outputs": [],
      "source": [
        "# a1-8 b1-8 c1-8 d1-8 sa1-7 sb1-7 sc1-7 sd1-7 e1-4\n",
        "\n",
        "# obj: min of wages\n",
        "c_a = np.concatenate((np.full(5, 70), np.full(2, 80)))\n",
        "c_b = np.concatenate((np.full(5, 70), np.full(2, 80)))\n",
        "c_c = np.concatenate((np.full(5, 80), np.full(2, 75)))\n",
        "c_d = np.concatenate((np.full(5, 160), np.full(2, 200)))\n",
        "c_s = np.full(28, 0)\n",
        "c_e = np.full(4, 0)\n",
        "c_T = np.concatenate((c_a, c_b, c_c, c_d, c_s, c_e))\n",
        "\n",
        "A = np.zeros((39, 64))\n",
        "bound = [[0, None] for _ in range(64)]\n",
        "b = []\n",
        "\n",
        "# 3 (0, 3): works at least 40hrs/week\n",
        "for i in range(3):\n",
        "    A[i, i*8: (i+1)*8] = 1\n",
        "    A[i, -1 * (4 - i)] = -1\n",
        "b += [40] * 3\n",
        "\n",
        "# 1 (3, 4): senior exactly 36\n",
        "A[3, 3*8: 4*8] = 1\n",
        "A[3, -1] = -1\n",
        "b.append(36)\n",
        "\n",
        "# 7 (4, 11): each day has 24hrs of work\n",
        "A[4:11, 0:7] = np.eye(7)\n",
        "A[4:11, 7:14] = np.eye(7)\n",
        "A[4:11, 14:21] = np.eye(7)\n",
        "A[4:11, 21:28] = np.eye(7)\n",
        "b += [24] * 7\n",
        "\n",
        "# 28 (12, 40): limit of each techinician on each day of the week\n",
        "A[11:18, 0:7] = np.eye(7)\n",
        "A[11:18, 28:35] = np.eye(7)\n",
        "\n",
        "A[18:25, 0:7] = np.eye(7)\n",
        "A[18:25, 28:35] = np.eye(7)\n",
        "\n",
        "A[12:19, 0:7] = np.eye(7)\n",
        "A[12:19, 28:35] = np.eye(7)\n",
        "\n",
        "A[12:19, 0:7] = np.eye(7)\n",
        "A[12:19, 28:35] = np.eye(7)\n",
        "\n",
        "\n",
        "# b = [40, 40, 40, 36] + [24] * 7 + [12,10,12,0,8,8,4] + [12,10,0,8,8,4,8] + [0,10,8,8,0,10,10] + [24,0,24,24,24,24,24] + []\n"
      ]
    },
    {
      "cell_type": "markdown",
      "metadata": {
        "id": "y3XsicAEVr1j"
      },
      "source": [
        "## Problem 5 : Courier service\n",
        "\n",
        "A company named \"Curry\" provides courier services to the customer. In town X, 10 customers are using this company's service. To satisfy the demand in this town, the company has placed the courier office as a hub for the couriers to collect customers' packages. However, only a limited amount of packages could be stockpiled in each office. The company has to pay the couriers 10 THB per kg per distance they have traveled in kilometer. Moreover, the package could be partially collected (divisible), i.e., a courier from office A and C could collect 200 kg, 300 kg package from customer 1. How should this company plan to send the couriers to collect the package such that the package collection cost is minimized? The amount of packages to be collected for each customer is shown in Table 2.1. The size of each package storage is shown in Table 2.2. The distance from the courier office to each customer is shown in Table 2.3. Formulate the problem as a linear program and solve for an optimal solution.\n",
        "\n",
        "**Note :  The optimal solution does not have to be an integer.**\n",
        "\n",
        "\n",
        "Table 2.1. Amount of packages to be collected for each customer.\n",
        "\n",
        "|  Customer | 1  |  2 |  3 |  4 | 5 | 6 | 7 | 8 | 9 | 10 |\n",
        "|:-:|:-:|:-:|:-:|:-:|:-:|:-:|:-:|:-:|:-:|:-:|\n",
        "| Amount of packages to be collected (kg) | 500 | 200 | 1000 | 2000 | 150 | 20 | 350 |250 | 375 | 1\n",
        "\n",
        "Table 2.2. The size of package storage for each office.\n",
        "\n",
        "|  Office | Storage size (kg)|\n",
        "|:-----------------:|:------------:|\n",
        "| A | 1500 |\n",
        "| B | 1000 |\n",
        "| C | 4000 |\n",
        "\n",
        "Table 2.3. Distance from the office to each household (km)\n",
        "\n",
        "|  From / to | 1  |  2 |  3 |  4 | 5 | 6 | 7 | 8 | 9 | 10 |\n",
        "|:-:|:-:|:-:|:-:|:-:|:-:|:-:|:-:|:-:|:-:|:-:|\n",
        "| A | 4 | 3 | 8 | 1 | 2 | 1 | 3 | 2 | 4 | 4 |\n",
        "| B | 3 | 1 | 1 | 8 | 3 | 4 | 5 | 7 | 9 | 8 |\n",
        "| C | 8 | 6 | 5 | 3 | 1 | 6 | 7 | 2 | 7 | 5 |\n",
        "\n",
        "\n"
      ]
    },
    {
      "cell_type": "code",
      "execution_count": null,
      "metadata": {
        "id": "dSTZrbmS4j1A"
      },
      "outputs": [],
      "source": [
        "pass"
      ]
    },
    {
      "cell_type": "markdown",
      "metadata": {
        "id": "dgQ64tUjirj3"
      },
      "source": [
        "## Problem 6: VM placement\n",
        "\n",
        "A startup company is provisioning virtual machines (VM) for cloud computing.  Currently, the company offers three types of instances, which are a small, medium, and large instance. The detail for each type of instance is shown in the table below. To host the VMs, the company has a large number of servers to provide its service. All of the servers they possessed have 8 CPUs core. Recently, the company has found a new customer to use their service. The customer want to host 20 small, 9 medium, and 5 large instances for their company. Moreover, the customer also demands that only they could access the provided server, i.e., the company could not use the leftover CPUs to serve other customers despite having 2 CPUs left. How many servers should the company allocate to serve this customer? Formulate the problem as a linear program and solve for an optimal solution.\n",
        "\n",
        "|  Instance type |    Number of CPUs provided   |\n",
        "|:-----------------:|:------------:|\n",
        "| small | 2 CPUs |\n",
        "| medium | 3 CPUs |\n",
        "| large   | 4 CPUs |\n",
        "\n",
        "**Note : The optimal solution does not have to be an integer.** </br>\n",
        "**Hint : How many way could we fit the instances into a single server?**\n"
      ]
    },
    {
      "cell_type": "code",
      "execution_count": 5,
      "metadata": {
        "id": "a1aWwDSbE_iI"
      },
      "outputs": [],
      "source": [
        "# a1-8\n",
        "c_T = np.full(8, 1)\n",
        "\n",
        "A = np.zeros((3, 8))\n",
        "A[0] = np.array([4, 2, 2, 1, 1, 0, 0, 0])\n",
        "A[1] = np.array([0, 1, 0, 2, 0, 2, 1, 0])\n",
        "A[2] = np.array([0, 0, 1, 0, 1, 0, 1, 2])\n",
        "\n",
        "bound = [[0, None] for _ in range(8)]\n",
        "b = [20, 9, 5]"
      ]
    },
    {
      "cell_type": "code",
      "execution_count": 7,
      "metadata": {},
      "outputs": [
        {
          "name": "stdout",
          "output_type": "stream",
          "text": [
            " message: Optimization terminated successfully.\n",
            " success: True\n",
            "  status: 0\n",
            "     fun: 10.875\n",
            "       x: [ 3.875e+00  0.000e+00  0.000e+00  4.500e+00  0.000e+00\n",
            "            0.000e+00  0.000e+00  2.500e+00]\n",
            "     nit: 3\n",
            "\n",
            " optimal value is 10.875 \n",
            " optimal solution is [3.875 0.    0.    4.5   0.    0.    0.    2.5  ]\n"
          ]
        },
        {
          "name": "stderr",
          "output_type": "stream",
          "text": [
            "/var/folders/27/0_8pjdb52g91gmnzbtgblvgc0000gn/T/ipykernel_90683/3196910340.py:1: DeprecationWarning: `method='simplex'` is deprecated and will be removed in SciPy 1.11.0. Please use one of the HiGHS solvers (e.g. `method='highs'`) in new code.\n",
            "  result = linprog(c = c_T, A_eq = A, b_eq=b, bounds=bound, method='simplex')\n"
          ]
        }
      ],
      "source": [
        "result = linprog(c = c_T, A_eq = A, b_eq=b, bounds=bound, method='simplex')\n",
        "print(\"{}\\n\\n optimal value is {} \\n optimal solution is {}\".format(result,result.fun, result.x)) "
      ]
    },
    {
      "cell_type": "markdown",
      "metadata": {
        "id": "j46xyv25agkq"
      },
      "source": [
        "\n",
        "## Problem 7: Linear binary classification model (Maximal Margin Classifier)\n",
        "\n",
        "This problem will introduce you to a basic machine learning classification algortithm. Let's say that we have the dataset $D = \\{ (x_0, y_0), (x_1, y_1), ..., (x_n, y_n)\\}$. Each element in $D$ is a datapoint $x_i$ in a form of tuple $(x_0, x_1)$ which belong to the class  $y_i \\in \\{-1, 1\\}$. Machine learning alogrithm aims to represent the dataset $D$ using sets of parameter $\\mathbf{\\theta}$.  For classification task, we use machine learning alogrithm to correctly classify the class $y$ given the datapoint $x$.\n",
        "\n",
        "In this problem, we use a linear line $\\theta_0x_0 + \\theta_1x_1 + \\theta_2 = 0$ as a classifier.  The datapoints above and below the line will be classified as class 1 (positive) and -1 (negative) respectively. The objective of this problem is to find the parameters of the linear classifier $\\mathbf{\\theta}$ given $D$ by formulating the problem as a linear program. A figure below demonstrates that the line with the parameter $ (\\theta_0, \\theta_1, \\theta_2) = (1.5, 1, -5)$, i.e., $1.5x_0 + x_1 - 5 = 0$,  could seperate the data into two classes.  \n"
      ]
    },
    {
      "cell_type": "code",
      "execution_count": 36,
      "metadata": {
        "id": "WGiHhW8Edmrr"
      },
      "outputs": [],
      "source": [
        "import matplotlib.pyplot as plt"
      ]
    },
    {
      "cell_type": "code",
      "execution_count": 37,
      "metadata": {
        "id": "c0xIsWpLalNH"
      },
      "outputs": [],
      "source": [
        "class_a = np.random.randn(10, 2)* 0.5 # generate class -1 data\n",
        "class_b = np.random.randn(10, 2) * 0.5  + 5# generte class 1 data"
      ]
    },
    {
      "cell_type": "code",
      "execution_count": 38,
      "metadata": {
        "colab": {
          "base_uri": "https://localhost:8080/"
        },
        "id": "UgKsyomkhYlj",
        "outputId": "e8f7c4f7-5fb7-4d60-8174-3d69f9c9818c"
      },
      "outputs": [
        {
          "name": "stdout",
          "output_type": "stream",
          "text": [
            "[0.04475378 0.36820224]\n"
          ]
        }
      ],
      "source": [
        "print(class_a[0]) # example of datapoint"
      ]
    },
    {
      "cell_type": "code",
      "execution_count": 39,
      "metadata": {
        "id": "d0EnEo1nhpQr"
      },
      "outputs": [],
      "source": [
        "def generate_decision_boundary(theta_0, theta_1, theta_2, xmin = -10,  ymin = -10, xmax = 10, ymax = 10, h = 0.1):\n",
        "  '''\n",
        "    Input : Parameter theta_0, theta_1, theta_2 of a linear classifier\n",
        "    Output : Decision boundary ( 1 is positive, -1 is negative, 0 is seperating hyperplane)\n",
        "  '''\n",
        "  x_0, x_1 = np.meshgrid(np.arange(xmin, xmax, h), np.arange(ymin, ymax, h))\n",
        "  prediction = theta_0 * x_0 + theta_1 * x_1 + theta_2\n",
        "  prediction[prediction > 0] = 1\n",
        "  prediction[prediction < 0] = -1\n",
        "  return (x_0, x_1, prediction)\n",
        "\n",
        "theta_0 = 1.5\n",
        "theta_1 = 1\n",
        "theta_2 = -5\n",
        "decision_boundary = generate_decision_boundary(theta_0, theta_1, theta_2)\n"
      ]
    },
    {
      "cell_type": "code",
      "execution_count": 40,
      "metadata": {
        "colab": {
          "base_uri": "https://localhost:8080/",
          "height": 351
        },
        "id": "QIfPY9pRdRyR",
        "outputId": "81243f1f-2c38-4cf9-c316-69543aa852ca"
      },
      "outputs": [
        {
          "data": {
            "image/png": "[encoded data removed]",
            "text/plain": [
              "<Figure size 500x500 with 1 Axes>"
            ]
          },
          "metadata": {},
          "output_type": "display_data"
        }
      ],
      "source": [
        "plt.figure(figsize = (5, 5))\n",
        "plt.xlim(-4.5, 9)\n",
        "plt.ylim (-4.5, 9)\n",
        "\n",
        "plt.scatter(class_a[:, 0], class_a[:, 1], color = 'red', label = 'class -1')\n",
        "plt.scatter(class_b[:, 0], class_b[:, 1], color = 'green', label = 'class 1')\n",
        "plt.contourf(decision_boundary[0], decision_boundary[1], decision_boundary[2], cmap = 'RdYlGn', alpha = 0.1) # plot decision boundary\n",
        "plt.xlabel('x_0')\n",
        "plt.ylabel('x_1')\n",
        "plt.title('green area is 1.5x_0 + x_1 - 5 > 0, red area is 1.5x_0 + x_1 - 5 < 0')\n",
        "plt.legend()\n",
        "plt.show()"
      ]
    },
    {
      "cell_type": "markdown",
      "metadata": {
        "id": "srwb3WbL3SCX"
      },
      "source": [
        "As you can see, the line $\\theta_0x_0 + \\theta_1x_1 + \\theta_2 = 0$ could seperate the data into two classes by constraining $x_i$ which has the value of $\\theta_0x_{i,0} + \\theta_1x_{i,1} + \\theta_2 > 0$ into a positive class $(y_i = 1)$ and $\\theta_0x_{i,0} + \\theta_1x_{i,1} + \\beta_2 < 0$ into a negative class $(y_i = -1)$. Therefore, the value of $\\theta$ could optimized by constraining the line to satisfy the condition of every datapoints w.r.t. its class, which result in the mathematical program shown below.\n",
        "\n",
        "$$Objective : - $$\n",
        "\\begin{equation*}\n",
        "s.t.\n",
        "\\begin{split}\n",
        "  \\theta_0x_{i, 0} + \\theta_1x_{i, 1} + \\theta_2   & > 0 \\\\\n",
        "  \\theta_0x_{j, 0} + \\theta_1x_{j, 1} + \\theta_2   & < 0 \\\\\n",
        "  \\forall i, y_i & = 1 \\\\\n",
        "  \\forall j, y_j & = -1 \\\\\n",
        "\\end{split}\n",
        "\\end{equation*}\n",
        "\n",
        "The program could also be written in a form of:\n",
        "\n",
        "$$Objective : - $$\n",
        "\\begin{equation*}\n",
        "s.t.\n",
        "\\begin{split}\n",
        "  \\forall i, y_i(\\theta_0x_{i, 0} + \\theta_1x_{i, 1} + \\theta_2)   & > 0 \\\\\n",
        "\\end{split}\n",
        "\\end{equation*}\n"
      ]
    },
    {
      "cell_type": "markdown",
      "metadata": {
        "id": "EByS1PkQgUAX"
      },
      "source": [
        "The program above could return a feasible solution yet the wellness of the optimized value is not defined. For example, $H_2$ and $H_3$ in the image below are both acceptable solution using the program above. However, $H_3$ might be a preferred solution.\n",
        "\n",
        "<img src=\"https://upload.wikimedia.org/wikipedia/commons/b/b5/Svm_separating_hyperplanes_%28SVG%29.svg\" width=\"30%\" >\n",
        "\n",
        "\n",
        "Image source: https://upload.wikimedia.org/wikipedia/commons/b/b5/Svm_separating_hyperplanes_%28SVG%29.svg\n",
        "\n",
        "Thus, we introduce the margin $\\epsilon$ to define the wellness of the program.  The margin is the shortest distance from the hyperplane to the closest datapoint. Maximizing $\\epsilon$ would result in the line which has the largest separation between the two classes (maximum margin). As a result, the program becomes:\n",
        "\n",
        "$$Objective : max(\\epsilon) $$\n",
        "\\begin{equation*}\n",
        "s.t.\n",
        "\\begin{split}\n",
        "  \\theta_0x_{i, 0} + \\theta_1x_{i, 1} + \\theta_2   & \\geq \\epsilon \\\\\n",
        "  \\theta_0x_{j, 0} + \\theta_1x_{j, 1} + \\theta_2   & \\leq  -\\epsilon \\\\\n",
        "  \\forall i, y_i & = 1 \\\\\n",
        "  \\forall j, y_j & = -1 \\\\\n",
        "  \\theta_0, \\theta_1 & \\in [-1,1] \\\\\n",
        "\\end{split}\n",
        "\\end{equation*}\n",
        "\n",
        "The program could also be written in a form of:\n",
        "\n",
        "$$Objective : max(\\epsilon) $$\n",
        "\\begin{equation*}\n",
        "s.t.\n",
        "\\begin{split}\n",
        "  \\forall i, y_i(\\theta_0x_{i, 0} + \\theta_1x_{i, 1} + \\theta_2)   & \\geq \\epsilon \\\\\n",
        "   \\theta_0, \\theta_1 & \\in [-1,1] \\\\\n",
        "\\end{split}\n",
        "\\end{equation*}\n",
        "\n",
        " $ \\theta_0, \\theta_1 $ are both bounded to $[-1,1]$ to prevent unbounded solution.\n",
        "\n",
        "<b> Note: This is a simplified version of a linear support vector machine and many details are omitted. You can read more at https://en.wikipedia.org/wiki/Support-vector_machine#Linear_SVM if interested."
      ]
    },
    {
      "cell_type": "markdown",
      "metadata": {
        "id": "vk7gTgm9CEBP"
      },
      "source": [
        "### Problem 7.1\n",
        "Convert the mathematical program above into a linear program. Then, use the converted program to solve for the line seperating the datapoints below. <b> Do not forget to visualize the solved line."
      ]
    },
    {
      "cell_type": "code",
      "execution_count": 41,
      "metadata": {
        "colab": {
          "base_uri": "https://localhost:8080/"
        },
        "id": "nVAHuVJu7Ca9",
        "outputId": "b6560fd7-a4f4-4d67-92eb-0010fbe2abaa"
      },
      "outputs": [
        {
          "name": "stdout",
          "output_type": "stream",
          "text": [
            "(20, 2)\n"
          ]
        }
      ],
      "source": [
        "class_a = np.array([[np.random.uniform(2.1, 3), np.random.uniform(2.3, 4)] for _ in range(20)]) # class -1 data\n",
        "class_b = np.array([[np.random.uniform(-1, 2), np.random.uniform(0, 2.2)] for _ in range(20)]) # class 1 data\n",
        "print(class_a.shape)"
      ]
    },
    {
      "cell_type": "code",
      "execution_count": 42,
      "metadata": {
        "colab": {
          "base_uri": "https://localhost:8080/",
          "height": 320
        },
        "id": "BB3ultHHCaN2",
        "outputId": "cfa0ee9c-6a3b-4189-f1fb-dbbc5898ae5a"
      },
      "outputs": [
        {
          "data": {
            "image/png": "[encoded data removed]",
            "text/plain": [
              "<Figure size 500x500 with 1 Axes>"
            ]
          },
          "metadata": {},
          "output_type": "display_data"
        }
      ],
      "source": [
        "plt.figure(figsize = (5, 5))\n",
        "plt.scatter(class_a[:, 0], class_a[:, 1], color = 'red', label = 'class -1')\n",
        "plt.scatter(class_b[:, 0], class_b[:, 1], color = 'green', label = 'class 1')\n",
        "plt.legend()\n",
        "plt.show()"
      ]
    },
    {
      "cell_type": "code",
      "execution_count": null,
      "metadata": {
        "id": "7cEnnn85EEz3"
      },
      "outputs": [],
      "source": [
        "pass"
      ]
    },
    {
      "cell_type": "markdown",
      "metadata": {
        "id": "ttwf8LZ8DNqO"
      },
      "source": [
        "### Problem 7.2\n",
        "Given the datapoints below, repeat 7.1 and observe the result. What is happening to the solution and why does this happen?"
      ]
    },
    {
      "cell_type": "code",
      "execution_count": null,
      "metadata": {
        "id": "q_JORCo0Ciav"
      },
      "outputs": [],
      "source": [
        "class_a = np.random.uniform(0, 2, (20, 2) ) # class -1 data\n",
        "class_b = np.random.uniform(0.5, 3, (20, 2)) # class 1 data"
      ]
    },
    {
      "cell_type": "code",
      "execution_count": null,
      "metadata": {
        "colab": {
          "base_uri": "https://localhost:8080/",
          "height": 320
        },
        "id": "Vk3t4jkCDcfk",
        "outputId": "a4b3957f-62da-4c44-c759-87bd1e83a65c"
      },
      "outputs": [
        {
          "data": {
            "image/png": "[encoded data removed]",
            "text/plain": [
              "<Figure size 360x360 with 1 Axes>"
            ]
          },
          "metadata": {
            "needs_background": "light",
            "tags": []
          },
          "output_type": "display_data"
        }
      ],
      "source": [
        "plt.figure(figsize = (5, 5))\n",
        "plt.scatter(class_a[:, 0], class_a[:, 1], color = 'red', label = 'class -1')\n",
        "plt.scatter(class_b[:, 0], class_b[:, 1], color = 'green', label = 'class 1')\n",
        "plt.legend()\n",
        "plt.show()"
      ]
    },
    {
      "cell_type": "code",
      "execution_count": null,
      "metadata": {
        "id": "iWxEiEv7EGE2"
      },
      "outputs": [],
      "source": [
        "pass"
      ]
    }
  ],
  "metadata": {
    "colab": {
      "provenance": []
    },
    "kernelspec": {
      "display_name": "Python 3",
      "name": "python3"
    },
    "language_info": {
      "codemirror_mode": {
        "name": "ipython",
        "version": 3
      },
      "file_extension": ".py",
      "mimetype": "text/x-python",
      "name": "python",
      "nbconvert_exporter": "python",
      "pygments_lexer": "ipython3",
      "version": "3.12.5"
    }
  },
  "nbformat": 4,
  "nbformat_minor": 0
}
